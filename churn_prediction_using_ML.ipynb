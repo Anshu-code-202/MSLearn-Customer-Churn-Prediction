{
 "cells": [
  {
   "cell_type": "markdown",
   "id": "26ac27c3-ccb9-4c0f-b55b-8268351bcaae",
   "metadata": {},
   "source": [
    "##   Problem Definition\n",
    "Goal: Predict whether a customer will churn (leave the service) based on their profile and service usage.\n"
   ]
  },
  {
   "cell_type": "markdown",
   "id": "30f5d3b7-53f9-4094-ab8d-8162c2b816cd",
   "metadata": {},
   "source": [
    "# 1. Importing  Basic libraries like:\n",
    "pandas,numpy,seaborn,matplotlib"
   ]
  },
  {
   "cell_type": "code",
   "execution_count": null,
   "id": "bc2e1248-843d-4d62-8bb1-b782413be204",
   "metadata": {},
   "outputs": [],
   "source": [
    "import pandas as pd\n",
    "import numpy as np\n",
    "%matplotlib inline\n",
    "\n",
    "import matplotlib.pyplot as plt\n",
    "import seaborn as sns\n"
   ]
  },
  {
   "cell_type": "markdown",
   "id": "3f45f3a4-e341-4cd9-b67b-bb50e867fc12",
   "metadata": {},
   "source": [
    "\n",
    "\n",
    "### For handling class imbalance\n",
    "from imblearn.over_sampling import SMOTE,\n",
    "\n",
    "Libraries for Preprocessing and model building \n",
    "\n",
    "### pip install imbalanced-learn,\n",
    "\n",
    "from imblearn.over_sampling import SMOTE\n",
    "\n",
    "\n",
    "#### from imblearn.over_sampling import SMOTE\n",
    "## What is SMOTE?\n",
    "SMOTE stands for Synthetic Minority Over-sampling Technique.\n",
    "\n",
    "It helps balance the dataset by creating synthetic samples of the minority class (in our case, Churn = Yes) instead of just duplicating rows.\n",
    "When to Use SMOTE:\n",
    "After encoding and scaling\n",
    "\n",
    "Only on training data (not test data!)\n",
    "\n",
    "Best used with models like Logistic Regression, Random Forest, etc.\n",
    "\n",
    "### train_test_split:\n",
    "Splits your data into training and testing sets\n",
    "### cross_val_score:\t\n",
    "Performs cross-validation to test model robustness\n",
    "### Use of DecisionTreeClassifier:\n",
    "To build a model that splits decisions based on feature values\n",
    "#### Metric,\tTells You...,\tWhen to Use:\n",
    "accuracy_score\t,Overall correctness\t,Balanced datasets\n",
    "\n",
    "confusion_matrix,\tDetailed error types (FP, FN, etc.),\tAny classification\n",
    "\n",
    "classification_report,\t(Precision, Recall, F1 per class),\tImbalanced datasets like churn"
   ]
  },
  {
   "cell_type": "code",
   "execution_count": null,
   "id": "37473248-f461-4648-ac10-66c17ca3abc7",
   "metadata": {},
   "outputs": [],
   "source": [
    "# For encoding categorical columns\n",
    "from sklearn.preprocessing import LabelEncoder\n",
    "\n",
    "# For handling class imbalance\n",
    "from imblearn.over_sampling import SMOTE\n",
    "\n",
    "# For splitting data & validating model\n",
    "from sklearn.model_selection import train_test_split, cross_val_score\n",
    "\n",
    "# For training models\n",
    "from sklearn.tree import DecisionTreeClassifier\n",
    "from xgboost import XGBClassifier\n",
    "\n",
    "# For evaluating model performance\n",
    "from sklearn.metrics import accuracy_score, confusion_matrix, classification_report\n",
    "\n",
    "# For saving/loading trained model\n",
    "import pickle\n"
   ]
  },
  {
   "cell_type": "markdown",
   "id": "97cc6dd7-bffe-4d2c-a44e-813471aaf085",
   "metadata": {},
   "source": [
    "# 2. Data Loading and Understanding"
   ]
  },
  {
   "cell_type": "code",
   "execution_count": null,
   "id": "8d744ad3-c306-4bd1-84f6-95cfbbab101b",
   "metadata": {},
   "outputs": [],
   "source": [
    "#load Telco csv data to pandas Dataframe\n",
    "df=pd.read_csv(\"Telco-Customer-Churn.csv\")\n",
    "df"
   ]
  },
  {
   "cell_type": "code",
   "execution_count": null,
   "id": "755b171a-c142-45e4-8755-c16076bcb279",
   "metadata": {},
   "outputs": [],
   "source": [
    "df.shape"
   ]
  },
  {
   "cell_type": "code",
   "execution_count": null,
   "id": "af9ef7eb-3707-4cbb-b8bb-e11fd2990212",
   "metadata": {},
   "outputs": [],
   "source": [
    "df.head()"
   ]
  },
  {
   "cell_type": "code",
   "execution_count": null,
   "id": "bedaab6c-52fa-4ef7-8a48-8765b9ab6386",
   "metadata": {},
   "outputs": [],
   "source": [
    "pd.set_option(\"display.max_columns\",None) \n",
    "# Show all columns in output"
   ]
  },
  {
   "cell_type": "code",
   "execution_count": null,
   "id": "04516abc-11af-4d6a-ab76-661c84b7fec1",
   "metadata": {},
   "outputs": [],
   "source": [
    "df.info()"
   ]
  },
  {
   "cell_type": "code",
   "execution_count": null,
   "id": "4972c4b3-e8d1-4c30-9815-4d1e488b5738",
   "metadata": {},
   "outputs": [],
   "source": [
    "#dropping column customer iD this is not required for churn model,\n",
    "\n",
    "\n",
    "# Why is customerID not required?\n",
    "# Because it is just an identifier, not a feature that influences churn.\n",
    "df =df.drop(columns=[\"customerID\"])\n",
    "df"
   ]
  },
  {
   "cell_type": "code",
   "execution_count": null,
   "id": "24259639-612d-4983-815d-93aca69dd35d",
   "metadata": {},
   "outputs": [],
   "source": [
    "# printing the unique values in all columns\n",
    "\n",
    "numerical_feature_list = [\"tenure\", \"MonthlyCharges\", \"TotalCharges\"] #used this because we don't want any numerical value there but only categorical value\n",
    "for col in df.columns:\n",
    "    if col not in numerical_feature_list:\n",
    "        print(col,df[col].unique())\n",
    "        print(\"-\"*50)#It prints a horizontal line of 50 dashes:\n",
    "# printing the unique values in all columns but manuaally\n",
    "# print(df[\"gender\"].unique())     can type for all but might be time consuming so we used for loop\n",
    "    "
   ]
  },
  {
   "cell_type": "code",
   "execution_count": null,
   "id": "4f09fa0a-4995-4d3d-83b6-921fdbf268f4",
   "metadata": {},
   "outputs": [],
   "source": [
    "df.info()"
   ]
  },
  {
   "cell_type": "code",
   "execution_count": null,
   "id": "3dec2569-04ad-46a1-a1bb-cb8e4d6a187f",
   "metadata": {},
   "outputs": [],
   "source": [
    "#converting object type data of total charges to int or float64\n",
    "df[\"TotalCharges\"] = df[\"TotalCharges\"].astype(float) #will give error "
   ]
  },
  {
   "cell_type": "code",
   "execution_count": null,
   "id": "feba6219-792f-493a-b52f-6b4a01973842",
   "metadata": {},
   "outputs": [],
   "source": [
    "# so to avoid error we will do\n",
    "df[df[\"TotalCharges\"]==\" \"]\n"
   ]
  },
  {
   "cell_type": "code",
   "execution_count": null,
   "id": "ed2be7f9-fdb5-46d2-99fb-4f39f69c05c1",
   "metadata": {},
   "outputs": [],
   "source": [
    "# len(df[df[\"TotalCharges\"]==\" \"]) #or  # Or df[\"TotalCharges\"].eq(\" \").sum() # Check how many blank values exist"
   ]
  },
  {
   "cell_type": "code",
   "execution_count": null,
   "id": "546d1fe1-1229-4936-9b0e-f4c070417c40",
   "metadata": {},
   "outputs": [],
   "source": [
    "# df[\"TotalCharges\"].replace({\" \",\"0.0\"}) # will depricated so use: # Replace blanks with NaN first (cleaner than replacing with 0)\n",
    "# df[\"TotalCharges\"]=df[\"TotalCharges\"].replace(\" \", pd.NA)\n",
    "# Check which values are causing the issue\n"
   ]
  },
  {
   "cell_type": "code",
   "execution_count": null,
   "id": "84f3d424-5780-4283-8234-bcd2603d7ee2",
   "metadata": {},
   "outputs": [],
   "source": [
    "#step1 \n",
    "# List all unique problematic values in the column\n",
    "invalid_values = df[~df[\"TotalCharges\"].astype(str).str.replace('.', '', 1).str.isdigit()]\n",
    "print(\"Invalid TotalCharges rows:\")\n",
    "print(invalid_values[\"TotalCharges\"].unique())\n"
   ]
  },
  {
   "cell_type": "markdown",
   "id": "b49b4b6c-c282-4bcc-b72b-385f2ba8cc7a",
   "metadata": {},
   "source": [
    "##  3.  Cleaning of data"
   ]
  },
  {
   "cell_type": "code",
   "execution_count": null,
   "id": "74ee0c96-8bd4-4827-b38c-e9a07101ad91",
   "metadata": {},
   "outputs": [],
   "source": [
    "#Step 2: Remove Only Invalid Entries\n",
    "# Clean and convert safely .Ensured all values are strings (even if they were NaN or numbers).\n",
    "# .str.strip() removes any spaces like \" 45.6 \" → \"45.6\".\n",
    "\n",
    "\n",
    "df[\"TotalCharges\"] = df[\"TotalCharges\"].astype(str).str.strip()\n",
    "\n",
    "# Remove known invalid patterns\n",
    "df = df[~df[\"TotalCharges\"].isin([\"\", \" \", \"<NA>\", \"nan\", \"NaN\"])]\n",
    "\n",
    "# Now convert to float safely\n",
    "df[\"TotalCharges\"] = df[\"TotalCharges\"].astype(float)\n",
    "\n",
    "# Reset index to keep things clean\n",
    "df.reset_index(drop=True, inplace=True)\n",
    "\n",
    "# Final check\n",
    "print(\"✅ Cleaned! Data type:\", df[\"TotalCharges\"].dtype)\n"
   ]
  },
  {
   "cell_type": "code",
   "execution_count": null,
   "id": "af5c6e07-bb09-4e4f-a14b-252c5277bfc7",
   "metadata": {},
   "outputs": [],
   "source": [
    "# Keep only rows where TotalCharges is numeric\n",
    "df = df[df[\"TotalCharges\"].apply(lambda x: str(x).replace('.', '', 1).isdigit())]\n",
    "df[\"TotalCharges\"] = df[\"TotalCharges\"].astype(float)\n"
   ]
  },
  {
   "cell_type": "code",
   "execution_count": null,
   "id": "fd5fb5b4-8b51-4480-b710-077d39f6c22e",
   "metadata": {},
   "outputs": [],
   "source": [
    "df.info()"
   ]
  },
  {
   "cell_type": "markdown",
   "id": "d5dbb4c4-b603-49a5-9341-765c35d898f7",
   "metadata": {},
   "source": [
    "### Distribution of target column:\n",
    "\n",
    "Churn column (whether a customer has left or stayed)"
   ]
  },
  {
   "cell_type": "code",
   "execution_count": null,
   "id": "4a2199a0-5285-4d15-b042-27aef7988ff0",
   "metadata": {},
   "outputs": [],
   "source": [
    "#checking the distribution of target column\n",
    "\n",
    "print(df[\"Churn\"].value_counts())   #Run this to see how many customers churned vs. stayed:"
   ]
  },
  {
   "cell_type": "markdown",
   "id": "465a91b2-ee89-4447-9b0b-195795a01adf",
   "metadata": {},
   "source": [
    "# Insights:-\n",
    "1. Customer ID rempved as it is not required for modelling.\n",
    "2. No missing values in the dataset.\n",
    "3. Missing values in TotalCharges column were replaced with 0\n",
    "4. class imbalance identified in the target. this imbalance will be handled using techniques like SMOTE during model training.\n",
    "\n",
    "#### Class imbalance becomes critical when we move to the Modeling phase.\n",
    "\n",
    "## Here's how:\n",
    "Problem: If you train a model without handling imbalance, it may predict mostly 'No' (majority class), and still get high accuracy — but it'll fail to detect churners.\n",
    "\n",
    "\n",
    "#### solution:Apply techniques like:\n",
    "\n",
    "SMOTE (Synthetic Minority Oversampling Technique) from imblearn\n",
    "\n",
    "Adjusting class weights in classifiers\n",
    "\n",
    "Undersampling the majority class (less common)\n",
    "\n",
    "\n"
   ]
  },
  {
   "cell_type": "markdown",
   "id": "3d0d2434-05b7-4b9d-a1ae-68a8d4b76802",
   "metadata": {},
   "source": [
    "# 3.Exploratory Data Analysis (EDA):-\n"
   ]
  },
  {
   "cell_type": "code",
   "execution_count": null,
   "id": "453a391a-711c-4dd2-b660-8657a8ad015e",
   "metadata": {},
   "outputs": [],
   "source": [
    "df.shape"
   ]
  },
  {
   "cell_type": "code",
   "execution_count": null,
   "id": "c6770827-3d81-424b-a6ef-a97c05d0c3ec",
   "metadata": {},
   "outputs": [],
   "source": [
    "df.columns"
   ]
  },
  {
   "cell_type": "code",
   "execution_count": null,
   "id": "7df17a78-39e6-4cb2-b27a-199d93c2630c",
   "metadata": {},
   "outputs": [],
   "source": [
    "df.dtypes"
   ]
  },
  {
   "cell_type": "code",
   "execution_count": null,
   "id": "37ccbd16-3b56-4a95-96f3-3b51c54bb163",
   "metadata": {},
   "outputs": [],
   "source": [
    "df.head(2)"
   ]
  },
  {
   "cell_type": "code",
   "execution_count": null,
   "id": "133e85ab-7c08-47ec-aa16-8190579bd367",
   "metadata": {},
   "outputs": [],
   "source": [
    "df.describe()"
   ]
  },
  {
   "cell_type": "code",
   "execution_count": null,
   "id": "e1e191b6-ea71-4a35-a1f0-03e5c756d682",
   "metadata": {},
   "outputs": [],
   "source": [
    "df.isnull().sum()"
   ]
  },
  {
   "cell_type": "markdown",
   "id": "69bb53ae-1153-4012-a728-f8d1fd138ad2",
   "metadata": {},
   "source": [
    " ## Numerical Feature Analysis:\n",
    "understand the distribution of Numerical features"
   ]
  },
  {
   "cell_type": "code",
   "execution_count": null,
   "id": "8d7c400d-e808-45a5-bc39-675c3f14921d",
   "metadata": {},
   "outputs": [],
   "source": [
    "def plot_histogram(df, column_name):\n",
    "    sns.histplot(df[column_name], kde=True, color='skyblue', edgecolor='black')\n",
    "    plt.title(f\"Distribution of {column_name}\")\n",
    "\n",
    "    # Calculate mean and median values for the column\n",
    "    col_mean = df[column_name].mean()\n",
    "    col_median = df[column_name].median()\n",
    "\n",
    "    # Add vertical lines for mean and median\n",
    "    plt.axvline(col_mean, color=\"red\", linestyle=\"--\", label=f\"Mean: {col_mean:.2f}\")\n",
    "    plt.axvline(col_median, color=\"green\", linestyle=\"--\", label=f\"Median: {col_median:.2f}\")\n",
    "\n",
    "    # Label axes\n",
    "    plt.xlabel(column_name)\n",
    "    plt.ylabel(\"Count\")\n",
    "    plt.legend()\n",
    "    plt.show()\n"
   ]
  },
  {
   "cell_type": "code",
   "execution_count": null,
   "id": "de5cef89-4cc8-4020-9ee7-3a24124ab9f9",
   "metadata": {},
   "outputs": [],
   "source": [
    "plot_histogram(df, \"MonthlyCharges\")\n"
   ]
  },
  {
   "cell_type": "code",
   "execution_count": null,
   "id": "26952af2-12e6-4bf0-8500-8ccbef386976",
   "metadata": {},
   "outputs": [],
   "source": [
    "plot_histogram(df, \"TotalCharges\")\n"
   ]
  },
  {
   "cell_type": "code",
   "execution_count": null,
   "id": "0967affe-6932-42e5-ae2e-b03825057fd4",
   "metadata": {},
   "outputs": [],
   "source": [
    "plot_histogram(df, \"tenure\")\n"
   ]
  },
  {
   "cell_type": "markdown",
   "id": "c46a14f2-2c63-4b99-8eb6-86a6a5967741",
   "metadata": {},
   "source": [
    "## what is scaling \n",
    "Bring features to the same scale\n",
    "### Why?\n",
    "Needed for distance-based models\n",
    "### Where?\n",
    "Logistic, SVM, KNN, Neural Nets\n",
    "### How?\n",
    "StandardScaler, MinMaxScaler etc.\n",
    "### Advantage?\t\n",
    "    Fast convergence, balanced input\n",
    "### Disadvantage?\t\n",
    "    Harder interpretation, not always needed\n",
    "\n",
    "#### But scaling is important — especially if you're going to use:\n",
    "\n",
    "Logistic Regression\n",
    "\n",
    "SVM\n",
    "\n",
    "KNN\n",
    "\n",
    "Neural Networks\n",
    "\n",
    "For tree-based models, scaling is not required.\n",
    "\n",
    "\n",
    "\n"
   ]
  },
  {
   "cell_type": "code",
   "execution_count": null,
   "id": "a7ba26c3-7ee6-433d-a42e-ca2ebdd2e4f4",
   "metadata": {},
   "outputs": [],
   "source": [
    "from sklearn.preprocessing import StandardScaler\n",
    "\n",
    "# select only numerical columns\n",
    "num_cols = ['tenure', 'MonthlyCharges', 'TotalCharges']\n",
    "scaler = StandardScaler()\n",
    "df[num_cols] = scaler.fit_transform(df[num_cols])\n"
   ]
  },
  {
   "cell_type": "markdown",
   "id": "ea6e22a3-2e3f-446f-8ee5-3ac297f29367",
   "metadata": {},
   "source": [
    "### Detect Outliers in Numeric Columns by using **Boxplot**\n",
    "Boxplots help us visually identify extreme values in features like:\n",
    "\n",
    "MonthlyCharges,TotalCharges,tenure"
   ]
  },
  {
   "cell_type": "markdown",
   "id": "11bd7a22-52ef-4bd5-99a0-0730759dca13",
   "metadata": {},
   "source": [
    "## Why use a boxplot here?\n",
    "Purpose\t:Why it helps in this project\n",
    "\n",
    "\n",
    "Detect Outliers\t:Outliers can mislead models\n",
    "\n",
    "\n",
    "Understand Spread:\tHelps decide scaling or transformation\n",
    "\n",
    "\n",
    "Compare Churn Groups:\tSee how churners differ from non-churners\n",
    "\n",
    "\n",
    "Visual Summary\tQuick view of median, IQR, and data skewness\n"
   ]
  },
  {
   "cell_type": "code",
   "execution_count": null,
   "id": "1f73d46c-faff-47b5-8a29-f516d7052216",
   "metadata": {},
   "outputs": [],
   "source": [
    "def plot_boxplot(df,column_name):\n",
    "    sns.boxplot(df[column_name])\n",
    "    plt.title(\"Boxplot of(column_name\")\n",
    "    plt.ylabel(column_name)\n",
    "    plt.show()"
   ]
  },
  {
   "cell_type": "code",
   "execution_count": null,
   "id": "b4965914-5fe1-4109-849c-4fd434c3077c",
   "metadata": {},
   "outputs": [],
   "source": [
    "plot_boxplot(df,\"tenure\")"
   ]
  },
  {
   "cell_type": "code",
   "execution_count": null,
   "id": "158b959a-3b41-43a4-9b7c-94dcf16b40d5",
   "metadata": {},
   "outputs": [],
   "source": [
    "plot_boxplot(df,\"MonthlyCharges\")"
   ]
  },
  {
   "cell_type": "code",
   "execution_count": null,
   "id": "87fe4a92-bcf0-464e-bb46-b57d67cd8e06",
   "metadata": {},
   "outputs": [],
   "source": [
    "plot_boxplot(df,\"TotalCharges\")"
   ]
  },
  {
   "cell_type": "markdown",
   "id": "de95696a-46e1-44a9-bea3-d8f3c7c77990",
   "metadata": {},
   "source": [
    "## correlation heatmap for numerical columns:\n",
    "A correlation heatmap is a colored grid that shows the correlation coefficient (from -1 to 1) between pairs of numerical features.\n",
    "Correlation Value:\tMeaning\n",
    "\n",
    "+1:\t Perfect positive correlation,\n",
    "\n",
    "0:   No correlation,\n",
    "\n",
    "-1:\t Perfect negative correlation,\n",
    "\n",
    " \n"
   ]
  },
  {
   "cell_type": "code",
   "execution_count": 12,
   "id": "eaac4b4e-8f8f-4a39-9581-37aaf9a420ab",
   "metadata": {},
   "outputs": [
    {
     "ename": "ValueError",
     "evalue": "could not convert string to float: ' '",
     "output_type": "error",
     "traceback": [
      "\u001b[1;31m---------------------------------------------------------------------------\u001b[0m",
      "\u001b[1;31mValueError\u001b[0m                                Traceback (most recent call last)",
      "Cell \u001b[1;32mIn[12], line 2\u001b[0m\n\u001b[0;32m      1\u001b[0m \u001b[38;5;66;03m#correlation matrix - heatmap\u001b[39;00m\n\u001b[1;32m----> 2\u001b[0m sns\u001b[38;5;241m.\u001b[39mheatmap(\u001b[43mdf\u001b[49m\u001b[43m[\u001b[49m\u001b[43m[\u001b[49m\u001b[38;5;124;43m\"\u001b[39;49m\u001b[38;5;124;43mtenure\u001b[39;49m\u001b[38;5;124;43m\"\u001b[39;49m\u001b[43m,\u001b[49m\u001b[38;5;124;43m\"\u001b[39;49m\u001b[38;5;124;43mMonthlyCharges\u001b[39;49m\u001b[38;5;124;43m\"\u001b[39;49m\u001b[43m,\u001b[49m\u001b[38;5;124;43m\"\u001b[39;49m\u001b[38;5;124;43mTotalCharges\u001b[39;49m\u001b[38;5;124;43m\"\u001b[39;49m\u001b[43m]\u001b[49m\u001b[43m]\u001b[49m\u001b[38;5;241;43m.\u001b[39;49m\u001b[43mcorr\u001b[49m\u001b[43m(\u001b[49m\u001b[43m)\u001b[49m,annot\u001b[38;5;241m=\u001b[39m\u001b[38;5;28;01mTrue\u001b[39;00m, cmap\u001b[38;5;241m=\u001b[39m\u001b[38;5;124m\"\u001b[39m\u001b[38;5;124mcoolwarm\u001b[39m\u001b[38;5;124m\"\u001b[39m, fmt\u001b[38;5;241m=\u001b[39m\u001b[38;5;124m\"\u001b[39m\u001b[38;5;124m.2f\u001b[39m\u001b[38;5;124m\"\u001b[39m)\n\u001b[0;32m      3\u001b[0m plt\u001b[38;5;241m.\u001b[39mtitle(\u001b[38;5;124m\"\u001b[39m\u001b[38;5;124mCorrelation Heatmap\u001b[39m\u001b[38;5;124m\"\u001b[39m)\n\u001b[0;32m      4\u001b[0m plt\u001b[38;5;241m.\u001b[39mshow()\n",
      "File \u001b[1;32m~\\AppData\\Local\\Programs\\Python\\Python312\\Lib\\site-packages\\pandas\\core\\frame.py:11049\u001b[0m, in \u001b[0;36mDataFrame.corr\u001b[1;34m(self, method, min_periods, numeric_only)\u001b[0m\n\u001b[0;32m  11047\u001b[0m cols \u001b[38;5;241m=\u001b[39m data\u001b[38;5;241m.\u001b[39mcolumns\n\u001b[0;32m  11048\u001b[0m idx \u001b[38;5;241m=\u001b[39m cols\u001b[38;5;241m.\u001b[39mcopy()\n\u001b[1;32m> 11049\u001b[0m mat \u001b[38;5;241m=\u001b[39m \u001b[43mdata\u001b[49m\u001b[38;5;241;43m.\u001b[39;49m\u001b[43mto_numpy\u001b[49m\u001b[43m(\u001b[49m\u001b[43mdtype\u001b[49m\u001b[38;5;241;43m=\u001b[39;49m\u001b[38;5;28;43mfloat\u001b[39;49m\u001b[43m,\u001b[49m\u001b[43m \u001b[49m\u001b[43mna_value\u001b[49m\u001b[38;5;241;43m=\u001b[39;49m\u001b[43mnp\u001b[49m\u001b[38;5;241;43m.\u001b[39;49m\u001b[43mnan\u001b[49m\u001b[43m,\u001b[49m\u001b[43m \u001b[49m\u001b[43mcopy\u001b[49m\u001b[38;5;241;43m=\u001b[39;49m\u001b[38;5;28;43;01mFalse\u001b[39;49;00m\u001b[43m)\u001b[49m\n\u001b[0;32m  11051\u001b[0m \u001b[38;5;28;01mif\u001b[39;00m method \u001b[38;5;241m==\u001b[39m \u001b[38;5;124m\"\u001b[39m\u001b[38;5;124mpearson\u001b[39m\u001b[38;5;124m\"\u001b[39m:\n\u001b[0;32m  11052\u001b[0m     correl \u001b[38;5;241m=\u001b[39m libalgos\u001b[38;5;241m.\u001b[39mnancorr(mat, minp\u001b[38;5;241m=\u001b[39mmin_periods)\n",
      "File \u001b[1;32m~\\AppData\\Local\\Programs\\Python\\Python312\\Lib\\site-packages\\pandas\\core\\frame.py:1993\u001b[0m, in \u001b[0;36mDataFrame.to_numpy\u001b[1;34m(self, dtype, copy, na_value)\u001b[0m\n\u001b[0;32m   1991\u001b[0m \u001b[38;5;28;01mif\u001b[39;00m dtype \u001b[38;5;129;01mis\u001b[39;00m \u001b[38;5;129;01mnot\u001b[39;00m \u001b[38;5;28;01mNone\u001b[39;00m:\n\u001b[0;32m   1992\u001b[0m     dtype \u001b[38;5;241m=\u001b[39m np\u001b[38;5;241m.\u001b[39mdtype(dtype)\n\u001b[1;32m-> 1993\u001b[0m result \u001b[38;5;241m=\u001b[39m \u001b[38;5;28;43mself\u001b[39;49m\u001b[38;5;241;43m.\u001b[39;49m\u001b[43m_mgr\u001b[49m\u001b[38;5;241;43m.\u001b[39;49m\u001b[43mas_array\u001b[49m\u001b[43m(\u001b[49m\u001b[43mdtype\u001b[49m\u001b[38;5;241;43m=\u001b[39;49m\u001b[43mdtype\u001b[49m\u001b[43m,\u001b[49m\u001b[43m \u001b[49m\u001b[43mcopy\u001b[49m\u001b[38;5;241;43m=\u001b[39;49m\u001b[43mcopy\u001b[49m\u001b[43m,\u001b[49m\u001b[43m \u001b[49m\u001b[43mna_value\u001b[49m\u001b[38;5;241;43m=\u001b[39;49m\u001b[43mna_value\u001b[49m\u001b[43m)\u001b[49m\n\u001b[0;32m   1994\u001b[0m \u001b[38;5;28;01mif\u001b[39;00m result\u001b[38;5;241m.\u001b[39mdtype \u001b[38;5;129;01mis\u001b[39;00m \u001b[38;5;129;01mnot\u001b[39;00m dtype:\n\u001b[0;32m   1995\u001b[0m     result \u001b[38;5;241m=\u001b[39m np\u001b[38;5;241m.\u001b[39masarray(result, dtype\u001b[38;5;241m=\u001b[39mdtype)\n",
      "File \u001b[1;32m~\\AppData\\Local\\Programs\\Python\\Python312\\Lib\\site-packages\\pandas\\core\\internals\\managers.py:1694\u001b[0m, in \u001b[0;36mBlockManager.as_array\u001b[1;34m(self, dtype, copy, na_value)\u001b[0m\n\u001b[0;32m   1692\u001b[0m         arr\u001b[38;5;241m.\u001b[39mflags\u001b[38;5;241m.\u001b[39mwriteable \u001b[38;5;241m=\u001b[39m \u001b[38;5;28;01mFalse\u001b[39;00m\n\u001b[0;32m   1693\u001b[0m \u001b[38;5;28;01melse\u001b[39;00m:\n\u001b[1;32m-> 1694\u001b[0m     arr \u001b[38;5;241m=\u001b[39m \u001b[38;5;28;43mself\u001b[39;49m\u001b[38;5;241;43m.\u001b[39;49m\u001b[43m_interleave\u001b[49m\u001b[43m(\u001b[49m\u001b[43mdtype\u001b[49m\u001b[38;5;241;43m=\u001b[39;49m\u001b[43mdtype\u001b[49m\u001b[43m,\u001b[49m\u001b[43m \u001b[49m\u001b[43mna_value\u001b[49m\u001b[38;5;241;43m=\u001b[39;49m\u001b[43mna_value\u001b[49m\u001b[43m)\u001b[49m\n\u001b[0;32m   1695\u001b[0m     \u001b[38;5;66;03m# The underlying data was copied within _interleave, so no need\u001b[39;00m\n\u001b[0;32m   1696\u001b[0m     \u001b[38;5;66;03m# to further copy if copy=True or setting na_value\u001b[39;00m\n\u001b[0;32m   1698\u001b[0m \u001b[38;5;28;01mif\u001b[39;00m na_value \u001b[38;5;129;01mis\u001b[39;00m lib\u001b[38;5;241m.\u001b[39mno_default:\n",
      "File \u001b[1;32m~\\AppData\\Local\\Programs\\Python\\Python312\\Lib\\site-packages\\pandas\\core\\internals\\managers.py:1753\u001b[0m, in \u001b[0;36mBlockManager._interleave\u001b[1;34m(self, dtype, na_value)\u001b[0m\n\u001b[0;32m   1751\u001b[0m     \u001b[38;5;28;01melse\u001b[39;00m:\n\u001b[0;32m   1752\u001b[0m         arr \u001b[38;5;241m=\u001b[39m blk\u001b[38;5;241m.\u001b[39mget_values(dtype)\n\u001b[1;32m-> 1753\u001b[0m     \u001b[43mresult\u001b[49m\u001b[43m[\u001b[49m\u001b[43mrl\u001b[49m\u001b[38;5;241;43m.\u001b[39;49m\u001b[43mindexer\u001b[49m\u001b[43m]\u001b[49m \u001b[38;5;241m=\u001b[39m arr\n\u001b[0;32m   1754\u001b[0m     itemmask[rl\u001b[38;5;241m.\u001b[39mindexer] \u001b[38;5;241m=\u001b[39m \u001b[38;5;241m1\u001b[39m\n\u001b[0;32m   1756\u001b[0m \u001b[38;5;28;01mif\u001b[39;00m \u001b[38;5;129;01mnot\u001b[39;00m itemmask\u001b[38;5;241m.\u001b[39mall():\n",
      "\u001b[1;31mValueError\u001b[0m: could not convert string to float: ' '"
     ]
    }
   ],
   "source": [
    "#correlation matrix - heatmap\n",
    "sns.heatmap(df[[\"tenure\",\"MonthlyCharges\",\"TotalCharges\"]].corr(),annot=True, cmap=\"coolwarm\", fmt=\".2f\")\n",
    "plt.title(\"Correlation Heatmap\")\n",
    "plt.show()"
   ]
  },
  {
   "cell_type": "markdown",
   "id": "df5c2f12-2d95-4ab4-9018-01f7021c2c8b",
   "metadata": {},
   "source": [
    "# Categorical feature - Analysis:-"
   ]
  },
  {
   "cell_type": "code",
   "execution_count": null,
   "id": "2d05363e-8ee4-45aa-8621-e41719cf8229",
   "metadata": {},
   "outputs": [],
   "source": [
    "df.columns"
   ]
  },
  {
   "cell_type": "code",
   "execution_count": null,
   "id": "cb7aacc4-0ed3-45d1-84b3-58c39f7927ca",
   "metadata": {},
   "outputs": [],
   "source": [
    "df.info()"
   ]
  },
  {
   "cell_type": "markdown",
   "id": "296d1864-9756-47da-9b27-e5cfcbd4fa99",
   "metadata": {},
   "source": [
    " ## Analyzing categorical features using count plot :-\n",
    " After analyzing numerical features, it’s important to analyze categorical features — especially because many important columns like gender, Contract, InternetService, etc., are categorical in your churn dataset.\n",
    " ### summary for categorical fetures:\n",
    " \n",
    " Find all categorical columns (like gender, contract, etc.) from your dataset using .select_dtypes(include=\"object\").\n",
    "\n",
    "Manually add SeniorCitizen to the list because even though it's stored as numbers (0 or 1), it actually represents a category (Yes/No).\n",
    "\n",
    "Save them in a list called obj_cols so that later you can:\n",
    "\n",
    "Plot graphs (like bar charts)\n",
    "\n",
    "Encode them for machine learning models\n",
    "\n",
    "### Why This Is Important:\n",
    "You need to treat categorical features differently than numerical ones in:\n",
    "\n",
    "Exploratory Data Analysis (EDA),Data Preprocessing (like Label Encoding / OneHot Encoding),Model building\n"
   ]
  },
  {
   "cell_type": "code",
   "execution_count": null,
   "id": "7b18013c-c952-4406-845a-d6e9423d0a85",
   "metadata": {},
   "outputs": [],
   "source": [
    "# Step 1: Identify categorical columns\n",
    "obj_cols = df.select_dtypes(include=\"object\").columns.to_list()\n",
    "# Step 2: Add 'SeniorCitizen' to treat it like a categorical feature\n",
    "obj_cols = [\"SeniorCitizen\"] + obj_cols\n",
    "\n",
    "\n",
    "# Plot count plots for each categorical column\n",
    "for col in obj_cols:\n",
    "    sns.countplot(x=df[col])\n",
    "    plt.title(f\"Count plot of {col}\")\n",
    "    plt.show()"
   ]
  },
  {
   "cell_type": "markdown",
   "id": "17a7eb59-908c-4b74-8425-f5eb6e486baa",
   "metadata": {},
   "source": []
  },
  {
   "cell_type": "markdown",
   "id": "33dc19bf-deac-4a95-b57f-8e7744e0f2d0",
   "metadata": {},
   "source": [
    "## From above graph we observed ,Class Imbalance in Target Variable (Churn)\n",
    "The Churn column is imbalanced – most customers did not churn.\n",
    "\n",
    "Example: 75% \"No\", 25% \"Yes\"\n",
    "\n",
    "### Why It's a Problem:\n",
    "If we don’t handle it, models like Logistic Regression, Random Forest, etc. may:\n",
    "\n",
    "Predict mostly “No Churn” to get high accuracy.\n",
    "\n",
    "But miss actual churners, which is what businesses care about.\n",
    "\n",
    "#### How to Handle It:\n",
    "\n",
    "SMOTE:\tGenerates synthetic examples for the minority class (Churn = Yes)\n",
    "\n",
    "Class weights:\tGive more importance to the minority class\n",
    "\n",
    "Evaluation Metrics\t:Use F1-Score, Recall, and AUC instead of just Accuracy"
   ]
  },
  {
   "cell_type": "markdown",
   "id": "62cb2491-0a7d-4f0c-881a-07e74a1796fc",
   "metadata": {},
   "source": [
    "# Data Preprocessing\n",
    "Data preprocessing is the cleaning and preparation of raw data so that machine learning models can understand and use it.\n",
    "## Why is it needed?\n",
    "Because real-world data is often:Messy,Incomplete,Not in the right format (e.g., text instead of numbers).Without preprocessing, your model may give wrong predictions or fail to work.\n",
    "## How it's done (Steps):\n",
    "Remove irrelevant columns (like IDs),Handle missing values,Convert data types (e.g., string to float),Encode categorical variables (LabelEncoder/OneHotEncoder)\n",
    "\n",
    "Scale numeric values (StandardScaler/MinMaxScaler),Handle imbalance (SMOTE),Split data into training & testing sets\n",
    "\n",
    "### Advantages:\n",
    "Better accuracy,Cleaner input for ML models,Avoids errors in training\n",
    "\n",
    "### Disadvantages:\n",
    "Can be time-consuming,Needs careful handling (mistakes can affect results)"
   ]
  },
  {
   "cell_type": "code",
   "execution_count": 13,
   "id": "d02501ae-f7b3-4037-9c41-d439cc0d5554",
   "metadata": {},
   "outputs": [
    {
     "data": {
      "text/html": [
       "<div>\n",
       "<style scoped>\n",
       "    .dataframe tbody tr th:only-of-type {\n",
       "        vertical-align: middle;\n",
       "    }\n",
       "\n",
       "    .dataframe tbody tr th {\n",
       "        vertical-align: top;\n",
       "    }\n",
       "\n",
       "    .dataframe thead th {\n",
       "        text-align: right;\n",
       "    }\n",
       "</style>\n",
       "<table border=\"1\" class=\"dataframe\">\n",
       "  <thead>\n",
       "    <tr style=\"text-align: right;\">\n",
       "      <th></th>\n",
       "      <th>gender</th>\n",
       "      <th>SeniorCitizen</th>\n",
       "      <th>Partner</th>\n",
       "      <th>Dependents</th>\n",
       "      <th>tenure</th>\n",
       "      <th>PhoneService</th>\n",
       "      <th>MultipleLines</th>\n",
       "      <th>InternetService</th>\n",
       "      <th>OnlineSecurity</th>\n",
       "      <th>OnlineBackup</th>\n",
       "      <th>DeviceProtection</th>\n",
       "      <th>TechSupport</th>\n",
       "      <th>StreamingTV</th>\n",
       "      <th>StreamingMovies</th>\n",
       "      <th>Contract</th>\n",
       "      <th>PaperlessBilling</th>\n",
       "      <th>PaymentMethod</th>\n",
       "      <th>MonthlyCharges</th>\n",
       "      <th>TotalCharges</th>\n",
       "      <th>Churn</th>\n",
       "    </tr>\n",
       "  </thead>\n",
       "  <tbody>\n",
       "    <tr>\n",
       "      <th>0</th>\n",
       "      <td>Female</td>\n",
       "      <td>0</td>\n",
       "      <td>Yes</td>\n",
       "      <td>No</td>\n",
       "      <td>1</td>\n",
       "      <td>No</td>\n",
       "      <td>No phone service</td>\n",
       "      <td>DSL</td>\n",
       "      <td>No</td>\n",
       "      <td>Yes</td>\n",
       "      <td>No</td>\n",
       "      <td>No</td>\n",
       "      <td>No</td>\n",
       "      <td>No</td>\n",
       "      <td>Month-to-month</td>\n",
       "      <td>Yes</td>\n",
       "      <td>Electronic check</td>\n",
       "      <td>29.85</td>\n",
       "      <td>29.85</td>\n",
       "      <td>No</td>\n",
       "    </tr>\n",
       "    <tr>\n",
       "      <th>1</th>\n",
       "      <td>Male</td>\n",
       "      <td>0</td>\n",
       "      <td>No</td>\n",
       "      <td>No</td>\n",
       "      <td>34</td>\n",
       "      <td>Yes</td>\n",
       "      <td>No</td>\n",
       "      <td>DSL</td>\n",
       "      <td>Yes</td>\n",
       "      <td>No</td>\n",
       "      <td>Yes</td>\n",
       "      <td>No</td>\n",
       "      <td>No</td>\n",
       "      <td>No</td>\n",
       "      <td>One year</td>\n",
       "      <td>No</td>\n",
       "      <td>Mailed check</td>\n",
       "      <td>56.95</td>\n",
       "      <td>1889.5</td>\n",
       "      <td>No</td>\n",
       "    </tr>\n",
       "    <tr>\n",
       "      <th>2</th>\n",
       "      <td>Male</td>\n",
       "      <td>0</td>\n",
       "      <td>No</td>\n",
       "      <td>No</td>\n",
       "      <td>2</td>\n",
       "      <td>Yes</td>\n",
       "      <td>No</td>\n",
       "      <td>DSL</td>\n",
       "      <td>Yes</td>\n",
       "      <td>Yes</td>\n",
       "      <td>No</td>\n",
       "      <td>No</td>\n",
       "      <td>No</td>\n",
       "      <td>No</td>\n",
       "      <td>Month-to-month</td>\n",
       "      <td>Yes</td>\n",
       "      <td>Mailed check</td>\n",
       "      <td>53.85</td>\n",
       "      <td>108.15</td>\n",
       "      <td>Yes</td>\n",
       "    </tr>\n",
       "  </tbody>\n",
       "</table>\n",
       "</div>"
      ],
      "text/plain": [
       "   gender  SeniorCitizen Partner Dependents  tenure PhoneService  \\\n",
       "0  Female              0     Yes         No       1           No   \n",
       "1    Male              0      No         No      34          Yes   \n",
       "2    Male              0      No         No       2          Yes   \n",
       "\n",
       "      MultipleLines InternetService OnlineSecurity OnlineBackup  \\\n",
       "0  No phone service             DSL             No          Yes   \n",
       "1                No             DSL            Yes           No   \n",
       "2                No             DSL            Yes          Yes   \n",
       "\n",
       "  DeviceProtection TechSupport StreamingTV StreamingMovies        Contract  \\\n",
       "0               No          No          No              No  Month-to-month   \n",
       "1              Yes          No          No              No        One year   \n",
       "2               No          No          No              No  Month-to-month   \n",
       "\n",
       "  PaperlessBilling     PaymentMethod  MonthlyCharges TotalCharges Churn  \n",
       "0              Yes  Electronic check           29.85        29.85    No  \n",
       "1               No      Mailed check           56.95       1889.5    No  \n",
       "2              Yes      Mailed check           53.85       108.15   Yes  "
      ]
     },
     "execution_count": 13,
     "metadata": {},
     "output_type": "execute_result"
    }
   ],
   "source": [
    "df.head(3)"
   ]
  },
  {
   "cell_type": "markdown",
   "id": "109b1386-d446-4574-ac94-a142521b5510",
   "metadata": {},
   "source": [
    "## Label encoding of target column"
   ]
  },
  {
   "cell_type": "code",
   "execution_count": 14,
   "id": "f105ac21-e3a6-429f-b8dd-5042c5140e56",
   "metadata": {},
   "outputs": [
    {
     "name": "stderr",
     "output_type": "stream",
     "text": [
      "C:\\Users\\welcome\\AppData\\Local\\Temp\\ipykernel_36532\\3368294369.py:1: FutureWarning: Downcasting behavior in `replace` is deprecated and will be removed in a future version. To retain the old behavior, explicitly call `result.infer_objects(copy=False)`. To opt-in to the future behavior, set `pd.set_option('future.no_silent_downcasting', True)`\n",
      "  df[\"Churn\"] = df[\"Churn\"].replace({\"Yes\":1,\"No\":0})\n"
     ]
    }
   ],
   "source": [
    "df[\"Churn\"] = df[\"Churn\"].replace({\"Yes\":1,\"No\":0})"
   ]
  },
  {
   "cell_type": "code",
   "execution_count": 15,
   "id": "378c3147-e8d7-42cb-8c70-cd99f4ac77a5",
   "metadata": {},
   "outputs": [
    {
     "data": {
      "text/html": [
       "<div>\n",
       "<style scoped>\n",
       "    .dataframe tbody tr th:only-of-type {\n",
       "        vertical-align: middle;\n",
       "    }\n",
       "\n",
       "    .dataframe tbody tr th {\n",
       "        vertical-align: top;\n",
       "    }\n",
       "\n",
       "    .dataframe thead th {\n",
       "        text-align: right;\n",
       "    }\n",
       "</style>\n",
       "<table border=\"1\" class=\"dataframe\">\n",
       "  <thead>\n",
       "    <tr style=\"text-align: right;\">\n",
       "      <th></th>\n",
       "      <th>gender</th>\n",
       "      <th>SeniorCitizen</th>\n",
       "      <th>Partner</th>\n",
       "      <th>Dependents</th>\n",
       "      <th>tenure</th>\n",
       "      <th>PhoneService</th>\n",
       "      <th>MultipleLines</th>\n",
       "      <th>InternetService</th>\n",
       "      <th>OnlineSecurity</th>\n",
       "      <th>OnlineBackup</th>\n",
       "      <th>DeviceProtection</th>\n",
       "      <th>TechSupport</th>\n",
       "      <th>StreamingTV</th>\n",
       "      <th>StreamingMovies</th>\n",
       "      <th>Contract</th>\n",
       "      <th>PaperlessBilling</th>\n",
       "      <th>PaymentMethod</th>\n",
       "      <th>MonthlyCharges</th>\n",
       "      <th>TotalCharges</th>\n",
       "      <th>Churn</th>\n",
       "    </tr>\n",
       "  </thead>\n",
       "  <tbody>\n",
       "    <tr>\n",
       "      <th>0</th>\n",
       "      <td>Female</td>\n",
       "      <td>0</td>\n",
       "      <td>Yes</td>\n",
       "      <td>No</td>\n",
       "      <td>1</td>\n",
       "      <td>No</td>\n",
       "      <td>No phone service</td>\n",
       "      <td>DSL</td>\n",
       "      <td>No</td>\n",
       "      <td>Yes</td>\n",
       "      <td>No</td>\n",
       "      <td>No</td>\n",
       "      <td>No</td>\n",
       "      <td>No</td>\n",
       "      <td>Month-to-month</td>\n",
       "      <td>Yes</td>\n",
       "      <td>Electronic check</td>\n",
       "      <td>29.85</td>\n",
       "      <td>29.85</td>\n",
       "      <td>0</td>\n",
       "    </tr>\n",
       "    <tr>\n",
       "      <th>1</th>\n",
       "      <td>Male</td>\n",
       "      <td>0</td>\n",
       "      <td>No</td>\n",
       "      <td>No</td>\n",
       "      <td>34</td>\n",
       "      <td>Yes</td>\n",
       "      <td>No</td>\n",
       "      <td>DSL</td>\n",
       "      <td>Yes</td>\n",
       "      <td>No</td>\n",
       "      <td>Yes</td>\n",
       "      <td>No</td>\n",
       "      <td>No</td>\n",
       "      <td>No</td>\n",
       "      <td>One year</td>\n",
       "      <td>No</td>\n",
       "      <td>Mailed check</td>\n",
       "      <td>56.95</td>\n",
       "      <td>1889.5</td>\n",
       "      <td>0</td>\n",
       "    </tr>\n",
       "    <tr>\n",
       "      <th>2</th>\n",
       "      <td>Male</td>\n",
       "      <td>0</td>\n",
       "      <td>No</td>\n",
       "      <td>No</td>\n",
       "      <td>2</td>\n",
       "      <td>Yes</td>\n",
       "      <td>No</td>\n",
       "      <td>DSL</td>\n",
       "      <td>Yes</td>\n",
       "      <td>Yes</td>\n",
       "      <td>No</td>\n",
       "      <td>No</td>\n",
       "      <td>No</td>\n",
       "      <td>No</td>\n",
       "      <td>Month-to-month</td>\n",
       "      <td>Yes</td>\n",
       "      <td>Mailed check</td>\n",
       "      <td>53.85</td>\n",
       "      <td>108.15</td>\n",
       "      <td>1</td>\n",
       "    </tr>\n",
       "  </tbody>\n",
       "</table>\n",
       "</div>"
      ],
      "text/plain": [
       "   gender  SeniorCitizen Partner Dependents  tenure PhoneService  \\\n",
       "0  Female              0     Yes         No       1           No   \n",
       "1    Male              0      No         No      34          Yes   \n",
       "2    Male              0      No         No       2          Yes   \n",
       "\n",
       "      MultipleLines InternetService OnlineSecurity OnlineBackup  \\\n",
       "0  No phone service             DSL             No          Yes   \n",
       "1                No             DSL            Yes           No   \n",
       "2                No             DSL            Yes          Yes   \n",
       "\n",
       "  DeviceProtection TechSupport StreamingTV StreamingMovies        Contract  \\\n",
       "0               No          No          No              No  Month-to-month   \n",
       "1              Yes          No          No              No        One year   \n",
       "2               No          No          No              No  Month-to-month   \n",
       "\n",
       "  PaperlessBilling     PaymentMethod  MonthlyCharges TotalCharges  Churn  \n",
       "0              Yes  Electronic check           29.85        29.85      0  \n",
       "1               No      Mailed check           56.95       1889.5      0  \n",
       "2              Yes      Mailed check           53.85       108.15      1  "
      ]
     },
     "execution_count": 15,
     "metadata": {},
     "output_type": "execute_result"
    }
   ],
   "source": [
    "df.head(3)"
   ]
  },
  {
   "cell_type": "code",
   "execution_count": 16,
   "id": "1c6c5f1b-23fb-49c0-900a-6d138b0a750d",
   "metadata": {},
   "outputs": [
    {
     "data": {
      "text/plain": [
       "Churn\n",
       "0    5174\n",
       "1    1869\n",
       "Name: count, dtype: int64"
      ]
     },
     "execution_count": 16,
     "metadata": {},
     "output_type": "execute_result"
    }
   ],
   "source": [
    "df[\"Churn\"].value_counts()"
   ]
  },
  {
   "cell_type": "markdown",
   "id": "630fcf27-6816-4929-9fe3-356e2ed25597",
   "metadata": {},
   "source": [
    "## Label encoding for categorical features:\n"
   ]
  },
  {
   "cell_type": "code",
   "execution_count": 17,
   "id": "6d4e38e9-2f07-4b24-8338-243bae210181",
   "metadata": {},
   "outputs": [
    {
     "data": {
      "text/plain": [
       "Index(['gender', 'Partner', 'Dependents', 'PhoneService', 'MultipleLines',\n",
       "       'InternetService', 'OnlineSecurity', 'OnlineBackup', 'DeviceProtection',\n",
       "       'TechSupport', 'StreamingTV', 'StreamingMovies', 'Contract',\n",
       "       'PaperlessBilling', 'PaymentMethod', 'TotalCharges'],\n",
       "      dtype='object')"
      ]
     },
     "execution_count": 17,
     "metadata": {},
     "output_type": "execute_result"
    }
   ],
   "source": [
    "#Identifying columns with object datatype\n",
    "obj_columns=df.select_dtypes(include=\"object\").columns\n",
    "obj_columns"
   ]
  },
  {
   "cell_type": "markdown",
   "id": "0d996c5a-9b24-4e71-aee5-2b1597451626",
   "metadata": {},
   "source": [
    "Note: we’ve already encoded Churn, so it won’t be in this list anymore.\n",
    "\n"
   ]
  },
  {
   "cell_type": "markdown",
   "id": "3f6c3b31-c9c0-44dd-bbe4-a7884a26852b",
   "metadata": {},
   "source": [
    "# Label Encoding with Encoder Persistence\n",
    " Why It’s Done (Purpose):\n",
    "Machine Learning models need all features in numerical form. Categorical columns like \"gender\" or \"InternetService\" are text — which models can’t interpret.\n",
    "\n",
    "Also, to ensure the same encoding logic is applied later (on new unseen data or in deployment), we must save the encoders.\n",
    "### Benefits\n",
    "Ensures compatibility between training and prediction\n",
    "\n",
    "Speeds up model deployment\n",
    "\n",
    "Enables consistent results across environments\n",
    "### When Not to Use LabelEncoder\n",
    "For non-ordinal categorical features with more than 2 classes, prefer One-Hot Encoding.\n",
    "\n",
    "Label encoding imposes an order, which might mislead some algorithms (like linear regression).\n",
    "\n",
    "#### we are using tree-based models (like Decision Tree, XGBoost) which handle label encoding well.\n",
    "\n",
    "You've saved the encoders — which is best practice for production-ready pipelines."
   ]
  },
  {
   "cell_type": "markdown",
   "id": "c73918cf-9295-4cb8-9a05-087981c675f6",
   "metadata": {},
   "source": [
    "## summary for given below code :\n",
    "Label Encoding with Encoder Saving\n",
    "In this step, we:\n",
    "\n",
    "Identified all categorical columns (data type = object)\n",
    "\n",
    "Applied Label Encoding to convert text data (e.g., \"Male\", \"Female\") into numbers (e.g., 0, 1)\n",
    "\n",
    "Stored each encoder used for every column in a dictionary\n",
    "\n",
    "Saved all encoders using pickle so we can reuse the same logic later (especially during deployment)\n",
    "\n",
    "✅ This ensures our machine learning model can understand the data, and we maintain consistency during training and prediction."
   ]
  },
  {
   "cell_type": "code",
   "execution_count": 18,
   "id": "08a8bc5c-391f-4479-87ac-4979890228c8",
   "metadata": {},
   "outputs": [],
   "source": [
    "#initialize a dictionary to save the encoders:\n",
    "encoders={}\n",
    "\n",
    "#apply label encoding and store the encoders\n",
    "for column in obj_columns:\n",
    "    label_encoder=LabelEncoder()\n",
    "    df[column]=label_encoder.fit_transform(df[column])\n",
    "    encoders[column]=label_encoder\n",
    "\n",
    "\n",
    "#save the encoders to a pickle file\n",
    "with open(\"encoders.pkl\",\"wb\") as f:\n",
    "    pickle.dump(encoders,f)"
   ]
  },
  {
   "cell_type": "code",
   "execution_count": 19,
   "id": "0b5abb1e-1371-446c-a3bf-2b9c315569fd",
   "metadata": {},
   "outputs": [
    {
     "data": {
      "text/plain": [
       "{'gender': LabelEncoder(),\n",
       " 'Partner': LabelEncoder(),\n",
       " 'Dependents': LabelEncoder(),\n",
       " 'PhoneService': LabelEncoder(),\n",
       " 'MultipleLines': LabelEncoder(),\n",
       " 'InternetService': LabelEncoder(),\n",
       " 'OnlineSecurity': LabelEncoder(),\n",
       " 'OnlineBackup': LabelEncoder(),\n",
       " 'DeviceProtection': LabelEncoder(),\n",
       " 'TechSupport': LabelEncoder(),\n",
       " 'StreamingTV': LabelEncoder(),\n",
       " 'StreamingMovies': LabelEncoder(),\n",
       " 'Contract': LabelEncoder(),\n",
       " 'PaperlessBilling': LabelEncoder(),\n",
       " 'PaymentMethod': LabelEncoder(),\n",
       " 'TotalCharges': LabelEncoder()}"
      ]
     },
     "execution_count": 19,
     "metadata": {},
     "output_type": "execute_result"
    }
   ],
   "source": [
    "encoders"
   ]
  },
  {
   "cell_type": "markdown",
   "id": "221a21ed-36dd-47a6-8805-6d8b424713ac",
   "metadata": {},
   "source": [
    "###  Encoders Summary\n",
    "\n",
    "We applied `LabelEncoder` to all categorical (object) columns.  \n",
    "The `encoders` dictionary now stores a separate encoder for each column.  \n",
    "This ensures consistent label transformation during both training and prediction.\n",
    "\n",
    "Example:\n",
    "- `gender`: {'Female' → 0, 'Male' → 1}\n",
    "- `Partner`: {'No' → 0, 'Yes' → 1}\n",
    "- ...and so on for all 15 object columns.\n"
   ]
  },
  {
   "cell_type": "code",
   "execution_count": 20,
   "id": "99ecff5d-2156-46bb-aaa0-8772679072a0",
   "metadata": {},
   "outputs": [
    {
     "data": {
      "text/html": [
       "<div>\n",
       "<style scoped>\n",
       "    .dataframe tbody tr th:only-of-type {\n",
       "        vertical-align: middle;\n",
       "    }\n",
       "\n",
       "    .dataframe tbody tr th {\n",
       "        vertical-align: top;\n",
       "    }\n",
       "\n",
       "    .dataframe thead th {\n",
       "        text-align: right;\n",
       "    }\n",
       "</style>\n",
       "<table border=\"1\" class=\"dataframe\">\n",
       "  <thead>\n",
       "    <tr style=\"text-align: right;\">\n",
       "      <th></th>\n",
       "      <th>gender</th>\n",
       "      <th>SeniorCitizen</th>\n",
       "      <th>Partner</th>\n",
       "      <th>Dependents</th>\n",
       "      <th>tenure</th>\n",
       "      <th>PhoneService</th>\n",
       "      <th>MultipleLines</th>\n",
       "      <th>InternetService</th>\n",
       "      <th>OnlineSecurity</th>\n",
       "      <th>OnlineBackup</th>\n",
       "      <th>DeviceProtection</th>\n",
       "      <th>TechSupport</th>\n",
       "      <th>StreamingTV</th>\n",
       "      <th>StreamingMovies</th>\n",
       "      <th>Contract</th>\n",
       "      <th>PaperlessBilling</th>\n",
       "      <th>PaymentMethod</th>\n",
       "      <th>MonthlyCharges</th>\n",
       "      <th>TotalCharges</th>\n",
       "      <th>Churn</th>\n",
       "    </tr>\n",
       "  </thead>\n",
       "  <tbody>\n",
       "    <tr>\n",
       "      <th>0</th>\n",
       "      <td>0</td>\n",
       "      <td>0</td>\n",
       "      <td>1</td>\n",
       "      <td>0</td>\n",
       "      <td>1</td>\n",
       "      <td>0</td>\n",
       "      <td>1</td>\n",
       "      <td>0</td>\n",
       "      <td>0</td>\n",
       "      <td>2</td>\n",
       "      <td>0</td>\n",
       "      <td>0</td>\n",
       "      <td>0</td>\n",
       "      <td>0</td>\n",
       "      <td>0</td>\n",
       "      <td>1</td>\n",
       "      <td>2</td>\n",
       "      <td>29.85</td>\n",
       "      <td>2505</td>\n",
       "      <td>0</td>\n",
       "    </tr>\n",
       "    <tr>\n",
       "      <th>1</th>\n",
       "      <td>1</td>\n",
       "      <td>0</td>\n",
       "      <td>0</td>\n",
       "      <td>0</td>\n",
       "      <td>34</td>\n",
       "      <td>1</td>\n",
       "      <td>0</td>\n",
       "      <td>0</td>\n",
       "      <td>2</td>\n",
       "      <td>0</td>\n",
       "      <td>2</td>\n",
       "      <td>0</td>\n",
       "      <td>0</td>\n",
       "      <td>0</td>\n",
       "      <td>1</td>\n",
       "      <td>0</td>\n",
       "      <td>3</td>\n",
       "      <td>56.95</td>\n",
       "      <td>1466</td>\n",
       "      <td>0</td>\n",
       "    </tr>\n",
       "    <tr>\n",
       "      <th>2</th>\n",
       "      <td>1</td>\n",
       "      <td>0</td>\n",
       "      <td>0</td>\n",
       "      <td>0</td>\n",
       "      <td>2</td>\n",
       "      <td>1</td>\n",
       "      <td>0</td>\n",
       "      <td>0</td>\n",
       "      <td>2</td>\n",
       "      <td>2</td>\n",
       "      <td>0</td>\n",
       "      <td>0</td>\n",
       "      <td>0</td>\n",
       "      <td>0</td>\n",
       "      <td>0</td>\n",
       "      <td>1</td>\n",
       "      <td>3</td>\n",
       "      <td>53.85</td>\n",
       "      <td>157</td>\n",
       "      <td>1</td>\n",
       "    </tr>\n",
       "    <tr>\n",
       "      <th>3</th>\n",
       "      <td>1</td>\n",
       "      <td>0</td>\n",
       "      <td>0</td>\n",
       "      <td>0</td>\n",
       "      <td>45</td>\n",
       "      <td>0</td>\n",
       "      <td>1</td>\n",
       "      <td>0</td>\n",
       "      <td>2</td>\n",
       "      <td>0</td>\n",
       "      <td>2</td>\n",
       "      <td>2</td>\n",
       "      <td>0</td>\n",
       "      <td>0</td>\n",
       "      <td>1</td>\n",
       "      <td>0</td>\n",
       "      <td>0</td>\n",
       "      <td>42.30</td>\n",
       "      <td>1400</td>\n",
       "      <td>0</td>\n",
       "    </tr>\n",
       "    <tr>\n",
       "      <th>4</th>\n",
       "      <td>0</td>\n",
       "      <td>0</td>\n",
       "      <td>0</td>\n",
       "      <td>0</td>\n",
       "      <td>2</td>\n",
       "      <td>1</td>\n",
       "      <td>0</td>\n",
       "      <td>1</td>\n",
       "      <td>0</td>\n",
       "      <td>0</td>\n",
       "      <td>0</td>\n",
       "      <td>0</td>\n",
       "      <td>0</td>\n",
       "      <td>0</td>\n",
       "      <td>0</td>\n",
       "      <td>1</td>\n",
       "      <td>2</td>\n",
       "      <td>70.70</td>\n",
       "      <td>925</td>\n",
       "      <td>1</td>\n",
       "    </tr>\n",
       "  </tbody>\n",
       "</table>\n",
       "</div>"
      ],
      "text/plain": [
       "   gender  SeniorCitizen  Partner  Dependents  tenure  PhoneService  \\\n",
       "0       0              0        1           0       1             0   \n",
       "1       1              0        0           0      34             1   \n",
       "2       1              0        0           0       2             1   \n",
       "3       1              0        0           0      45             0   \n",
       "4       0              0        0           0       2             1   \n",
       "\n",
       "   MultipleLines  InternetService  OnlineSecurity  OnlineBackup  \\\n",
       "0              1                0               0             2   \n",
       "1              0                0               2             0   \n",
       "2              0                0               2             2   \n",
       "3              1                0               2             0   \n",
       "4              0                1               0             0   \n",
       "\n",
       "   DeviceProtection  TechSupport  StreamingTV  StreamingMovies  Contract  \\\n",
       "0                 0            0            0                0         0   \n",
       "1                 2            0            0                0         1   \n",
       "2                 0            0            0                0         0   \n",
       "3                 2            2            0                0         1   \n",
       "4                 0            0            0                0         0   \n",
       "\n",
       "   PaperlessBilling  PaymentMethod  MonthlyCharges  TotalCharges  Churn  \n",
       "0                 1              2           29.85          2505      0  \n",
       "1                 0              3           56.95          1466      0  \n",
       "2                 1              3           53.85           157      1  \n",
       "3                 0              0           42.30          1400      0  \n",
       "4                 1              2           70.70           925      1  "
      ]
     },
     "execution_count": 20,
     "metadata": {},
     "output_type": "execute_result"
    }
   ],
   "source": [
    "df.head()"
   ]
  },
  {
   "cell_type": "markdown",
   "id": "2a4aa819-5f43-4c5d-83d4-ce110bf429ff",
   "metadata": {},
   "source": [
    "# Trainig and Test Data Split\n",
    "Train your model on one portion of the data\n",
    "\n",
    "Test it on unseen data to evaluate performance\n",
    "\n",
    "Prevent overfitting and ensure fair evaluation\n",
    "\n"
   ]
  },
  {
   "cell_type": "code",
   "execution_count": 21,
   "id": "9969a59c-856e-4d19-90b2-763f25f6aa13",
   "metadata": {},
   "outputs": [],
   "source": [
    "# splitting the fetures and target\n",
    "X=df.drop(columns=[\"Churn\"])    #x → all features (input columns)\n",
    "\n",
    "y=df[\"Churn\"]   #y → the target variable (Churn)\n"
   ]
  },
  {
   "cell_type": "markdown",
   "id": "743c843f-3dfb-4831-b6a9-1fe395a10686",
   "metadata": {},
   "source": [
    "###  Train-Test Split\n",
    "\n",
    "We split the dataset into training and test sets using `train_test_split`:\n",
    "\n",
    "- 80% training data (`X_train`, `y_train`)\n",
    "- 20% testing data (`X_test`, `y_test`)\n",
    "\n",
    "- Set `random_state=42` to ensure reproducibility\n"
   ]
  },
  {
   "cell_type": "code",
   "execution_count": 22,
   "id": "20c5f10b-19a8-4ec4-9ebb-da25ce7b2991",
   "metadata": {},
   "outputs": [],
   "source": [
    "# split datasets into trainig and test data\n",
    "X_train,X_test, y_train,y_test=train_test_split(X,y,test_size=0.2,random_state=42)  \n",
    "# test_size=0.2\t:-20% of the data is used for testing, 80% for training\n",
    "# random_state=42:\tEnsures you get the same split every time you run the code,it can be different "
   ]
  },
  {
   "cell_type": "code",
   "execution_count": 23,
   "id": "76ad6b33-d213-49d2-bd53-106f0dda473e",
   "metadata": {},
   "outputs": [
    {
     "data": {
      "text/plain": [
       "(5634,)"
      ]
     },
     "execution_count": 23,
     "metadata": {},
     "output_type": "execute_result"
    }
   ],
   "source": [
    "y_train.shape"
   ]
  },
  {
   "cell_type": "code",
   "execution_count": 24,
   "id": "8bd96e39-0a24-4579-8e14-5a4bd6b99720",
   "metadata": {},
   "outputs": [
    {
     "data": {
      "text/plain": [
       "Churn\n",
       "0    4138\n",
       "1    1496\n",
       "Name: count, dtype: int64"
      ]
     },
     "execution_count": 24,
     "metadata": {},
     "output_type": "execute_result"
    }
   ],
   "source": [
    "y_train.value_counts()   # it is imbalance so we use SMOTE"
   ]
  },
  {
   "cell_type": "markdown",
   "id": "a1956f59-2285-46eb-a701-7710bdabb504",
   "metadata": {},
   "source": [
    "###  What is SMOTE?\n",
    "\n",
    "SMOTE (Synthetic Minority Over-sampling Technique) is used to handle class imbalance in classification problems.\n",
    "\n",
    "Instead of duplicating minority class samples, it creates **synthetic examples** by interpolating between existing ones.\n",
    "\n",
    "This helps the model learn the patterns of both majority and minority classes effectively.\n",
    "\n",
    "📌 We apply SMOTE **only to the training set**.\n",
    "\n",
    "**Advantages:**\n",
    "- Improves model performance on imbalanced data\n",
    "- Avoids overfitting caused by simple duplication\n",
    "\n",
    "**Disadvantages:**\n",
    "- Might generate noisy samples if classes overlap\n",
    "\n",
    "###  How SMOTE works?\n",
    "Instead of just copying minority class samples (which can cause overfitting), SMOTE:\n",
    "\n",
    "Identifies neighbors of a minority sample.\n",
    "\n",
    "Interpolates (creates new synthetic samples) between them.\n",
    "\n",
    "Adds these new samples to the training data.\n",
    "\n",
    "Now the model sees a balanced view and learns better!\n",
    "\n",
    "### ✅ SMOTE is applied only on the training data, not test data.\n"
   ]
  },
  {
   "cell_type": "code",
   "execution_count": 25,
   "id": "08c46cbe-579d-43e1-950e-5e3907c73b27",
   "metadata": {},
   "outputs": [
    {
     "name": "stdout",
     "output_type": "stream",
     "text": [
      "After SMOTE: (8276,)\n"
     ]
    }
   ],
   "source": [
    "from imblearn.over_sampling import SMOTE\n",
    "\n",
    "# Initialize SMOTE\n",
    "smote = SMOTE(random_state=42)\n",
    "\n",
    "# Apply SMOTE on the training data\n",
    "X_train_smote, y_train_smote = smote.fit_resample(X_train, y_train)\n",
    "\n",
    "# Check the new shape of y after SMOTE\n",
    "\n",
    "# print(\"Before SMOTE:\", y_train)\n",
    "print(\"After SMOTE:\", y_train_smote.shape)\n",
    "\n"
   ]
  },
  {
   "cell_type": "code",
   "execution_count": 26,
   "id": "ec4e78a8-e466-43a8-996e-4e30774e4a26",
   "metadata": {},
   "outputs": [
    {
     "name": "stdout",
     "output_type": "stream",
     "text": [
      "Churn\n",
      "0    4138\n",
      "1    4138\n",
      "Name: count, dtype: int64\n"
     ]
    }
   ],
   "source": [
    "print(y_train_smote.value_counts())"
   ]
  },
  {
   "cell_type": "markdown",
   "id": "16ccbabe-cf63-4a21-adc9-53d1648a5236",
   "metadata": {},
   "source": [
    "# 5. Model Trainig:\n",
    "Trainig with default hyperparameters\n",
    "\n",
    "Model training is the process where a machine learning algorithm learns patterns and relationships from historical data (called the training set) to make predictions or classifications on new, unseen data.\n",
    "\n",
    "\n",
    "Here:\n",
    "model.fit() is the training function.\n",
    "\n",
    "It learns from X_train_smote and y_train_smote (your balanced training data).\n",
    "\n",
    "Now the model can predict churn for new customers.\n",
    "#### Why Training is Important?\n",
    "This is where your model learns to make decisions.\n",
    "\n",
    "The quality of training directly affects how accurate your predictions will be.\n",
    "\n",
    "#### Behind the scenes:\n",
    "Different algorithms use different methods:\n",
    "\n",
    "Logistic Regression: Learns weights for linear decision boundary.\n",
    "\n",
    "Decision Tree: Learns best splits.\n",
    "\n",
    "XGBoost: Learns from gradients and combines multiple trees.\n",
    "\n",
    "\n"
   ]
  },
  {
   "cell_type": "code",
   "execution_count": 27,
   "id": "25335781-270b-4efd-9792-dce79f4bc7bd",
   "metadata": {},
   "outputs": [],
   "source": [
    "#dictionary of models\n",
    "from sklearn.ensemble import RandomForestClassifier\n",
    "\n",
    "models={\n",
    "    \"Decision Tree\": DecisionTreeClassifier(random_state=42),\n",
    "    \"Random Forest\": RandomForestClassifier(random_state=42),\n",
    "    \"XGBoost\": XGBClassifier(random_state=42)\n",
    "    \n",
    "    \n",
    "}"
   ]
  },
  {
   "cell_type": "code",
   "execution_count": 28,
   "id": "7d366d07-1f75-43a4-9810-6b4b53804f2c",
   "metadata": {},
   "outputs": [
    {
     "name": "stdout",
     "output_type": "stream",
     "text": [
      "Training Decision Tree with default parameter\n",
      "Decision Tree cross-validation accuracy:0.79\n",
      ",,,,,,,,,,,,,,,,,,,,,,,,,,,,,,,,,,,,,,,,,,,,,,,,,,,,,,,,,,,,,,,,,,,,,,\n",
      "Training Random Forest with default parameter\n",
      "Random Forest cross-validation accuracy:0.84\n",
      ",,,,,,,,,,,,,,,,,,,,,,,,,,,,,,,,,,,,,,,,,,,,,,,,,,,,,,,,,,,,,,,,,,,,,,\n",
      "Training XGBoost with default parameter\n",
      "XGBoost cross-validation accuracy:0.83\n",
      ",,,,,,,,,,,,,,,,,,,,,,,,,,,,,,,,,,,,,,,,,,,,,,,,,,,,,,,,,,,,,,,,,,,,,,\n"
     ]
    }
   ],
   "source": [
    "#dictionary to store the cross validations results\n",
    "cv_scores={}\n",
    "\n",
    "#perfrom 5-Folds Cross validations for each model using loop\n",
    "for model_name,model in models.items():\n",
    "    \n",
    "    # print(model_name)\n",
    "    # print(model)\n",
    "    # print(\",\"*50\n",
    "    print(f\"Training {model_name} with default parameter\")\n",
    "    scores=cross_val_score(model,X_train_smote,y_train_smote,cv=5,scoring=\"accuracy\")\n",
    "  \n",
    "    cv_scores[model_name]=scores\n",
    "    print(f\"{model_name} cross-validation accuracy:{np.mean(scores):.2f}\")\n",
    "    print(\",\"*70)"
   ]
  },
  {
   "cell_type": "markdown",
   "id": "84cde20e-5666-4026-a154-e33626f04d3e",
   "metadata": {},
   "source": [
    "   #### scores=cross_val_score(model,X_train_smote,y_train_smote,cv=5,scoring=\"accuracy\")\n",
    "    This is the core operation:\n",
    "\n",
    "Trains the current model using 5-fold cross-validation\n",
    "\n",
    "X_train_smote, y_train_smote: Training data after balancing with SMOTE\n",
    "\n",
    "cv=5: Splits the data into 5 folds\n",
    "\n",
    "scoring=\"accuracy\": Uses accuracy as the evaluation metric\n",
    "\n",
    "It returns 5 accuracy scores (one from each fold).\n",
    "## Why Is This Important?\n",
    "Cross-validation gives a more reliable estimate of model performance than a single train-test split.\n",
    "\n",
    "Prevents overfitting and underfitting detection early.\n",
    "\n",
    "Helps in model comparison under similar training conditions."
   ]
  },
  {
   "cell_type": "code",
   "execution_count": 31,
   "id": "8944ecdb-0753-4fb1-ba1d-fa4c49d52fbb",
   "metadata": {},
   "outputs": [
    {
     "data": {
      "text/plain": [
       "{'Decision Tree': array([0.68417874, 0.72145015, 0.83141994, 0.84229607, 0.84773414]),\n",
       " 'Random Forest': array([0.72584541, 0.76797583, 0.90876133, 0.89667674, 0.90030211]),\n",
       " 'XGBoost': array([0.69746377, 0.74259819, 0.90996979, 0.89728097, 0.90513595])}"
      ]
     },
     "execution_count": 31,
     "metadata": {},
     "output_type": "execute_result"
    }
   ],
   "source": [
    "cv_scores\n",
    "\n",
    "# structure of cv_scores\n",
    "# Each key in the dictionary is the name of the model (like \"Decision Tree\" or \"XGBoost\"), and the value is the list of 5 accuracy\n",
    "# scores returned by cross_val_score() — one for each fold in 5-fold cross-validation.\n"
   ]
  },
  {
   "cell_type": "markdown",
   "id": "4b09510c-40d8-4991-8967-9b39adf39229",
   "metadata": {},
   "source": [
    "### 🔎 Understanding `cv_scores`\n",
    "\n",
    "- `cv_scores` is a dictionary that stores the 5-fold cross-validation accuracy scores for each ML model.\n",
    "- Key = Model Name (e.g., \"XGBoost\")\n",
    "- Value = List of 5 accuracy scores from cross-validation\n",
    "- Helps compare models based on their average performance.\n",
    "\n",
    "This allows us to choose the most promising model for final evaluation on test data.\n",
    "### RandomForest givrs the highest accuracy compared to other models with default parameters"
   ]
  },
  {
   "cell_type": "code",
   "execution_count": 40,
   "id": "0f8ae6c0-a05b-4928-a886-a8109f3c729c",
   "metadata": {},
   "outputs": [
    {
     "data": {
      "text/html": [
       "<style>#sk-container-id-2 {\n",
       "  /* Definition of color scheme common for light and dark mode */\n",
       "  --sklearn-color-text: #000;\n",
       "  --sklearn-color-text-muted: #666;\n",
       "  --sklearn-color-line: gray;\n",
       "  /* Definition of color scheme for unfitted estimators */\n",
       "  --sklearn-color-unfitted-level-0: #fff5e6;\n",
       "  --sklearn-color-unfitted-level-1: #f6e4d2;\n",
       "  --sklearn-color-unfitted-level-2: #ffe0b3;\n",
       "  --sklearn-color-unfitted-level-3: chocolate;\n",
       "  /* Definition of color scheme for fitted estimators */\n",
       "  --sklearn-color-fitted-level-0: #f0f8ff;\n",
       "  --sklearn-color-fitted-level-1: #d4ebff;\n",
       "  --sklearn-color-fitted-level-2: #b3dbfd;\n",
       "  --sklearn-color-fitted-level-3: cornflowerblue;\n",
       "\n",
       "  /* Specific color for light theme */\n",
       "  --sklearn-color-text-on-default-background: var(--sg-text-color, var(--theme-code-foreground, var(--jp-content-font-color1, black)));\n",
       "  --sklearn-color-background: var(--sg-background-color, var(--theme-background, var(--jp-layout-color0, white)));\n",
       "  --sklearn-color-border-box: var(--sg-text-color, var(--theme-code-foreground, var(--jp-content-font-color1, black)));\n",
       "  --sklearn-color-icon: #696969;\n",
       "\n",
       "  @media (prefers-color-scheme: dark) {\n",
       "    /* Redefinition of color scheme for dark theme */\n",
       "    --sklearn-color-text-on-default-background: var(--sg-text-color, var(--theme-code-foreground, var(--jp-content-font-color1, white)));\n",
       "    --sklearn-color-background: var(--sg-background-color, var(--theme-background, var(--jp-layout-color0, #111)));\n",
       "    --sklearn-color-border-box: var(--sg-text-color, var(--theme-code-foreground, var(--jp-content-font-color1, white)));\n",
       "    --sklearn-color-icon: #878787;\n",
       "  }\n",
       "}\n",
       "\n",
       "#sk-container-id-2 {\n",
       "  color: var(--sklearn-color-text);\n",
       "}\n",
       "\n",
       "#sk-container-id-2 pre {\n",
       "  padding: 0;\n",
       "}\n",
       "\n",
       "#sk-container-id-2 input.sk-hidden--visually {\n",
       "  border: 0;\n",
       "  clip: rect(1px 1px 1px 1px);\n",
       "  clip: rect(1px, 1px, 1px, 1px);\n",
       "  height: 1px;\n",
       "  margin: -1px;\n",
       "  overflow: hidden;\n",
       "  padding: 0;\n",
       "  position: absolute;\n",
       "  width: 1px;\n",
       "}\n",
       "\n",
       "#sk-container-id-2 div.sk-dashed-wrapped {\n",
       "  border: 1px dashed var(--sklearn-color-line);\n",
       "  margin: 0 0.4em 0.5em 0.4em;\n",
       "  box-sizing: border-box;\n",
       "  padding-bottom: 0.4em;\n",
       "  background-color: var(--sklearn-color-background);\n",
       "}\n",
       "\n",
       "#sk-container-id-2 div.sk-container {\n",
       "  /* jupyter's `normalize.less` sets `[hidden] { display: none; }`\n",
       "     but bootstrap.min.css set `[hidden] { display: none !important; }`\n",
       "     so we also need the `!important` here to be able to override the\n",
       "     default hidden behavior on the sphinx rendered scikit-learn.org.\n",
       "     See: https://github.com/scikit-learn/scikit-learn/issues/21755 */\n",
       "  display: inline-block !important;\n",
       "  position: relative;\n",
       "}\n",
       "\n",
       "#sk-container-id-2 div.sk-text-repr-fallback {\n",
       "  display: none;\n",
       "}\n",
       "\n",
       "div.sk-parallel-item,\n",
       "div.sk-serial,\n",
       "div.sk-item {\n",
       "  /* draw centered vertical line to link estimators */\n",
       "  background-image: linear-gradient(var(--sklearn-color-text-on-default-background), var(--sklearn-color-text-on-default-background));\n",
       "  background-size: 2px 100%;\n",
       "  background-repeat: no-repeat;\n",
       "  background-position: center center;\n",
       "}\n",
       "\n",
       "/* Parallel-specific style estimator block */\n",
       "\n",
       "#sk-container-id-2 div.sk-parallel-item::after {\n",
       "  content: \"\";\n",
       "  width: 100%;\n",
       "  border-bottom: 2px solid var(--sklearn-color-text-on-default-background);\n",
       "  flex-grow: 1;\n",
       "}\n",
       "\n",
       "#sk-container-id-2 div.sk-parallel {\n",
       "  display: flex;\n",
       "  align-items: stretch;\n",
       "  justify-content: center;\n",
       "  background-color: var(--sklearn-color-background);\n",
       "  position: relative;\n",
       "}\n",
       "\n",
       "#sk-container-id-2 div.sk-parallel-item {\n",
       "  display: flex;\n",
       "  flex-direction: column;\n",
       "}\n",
       "\n",
       "#sk-container-id-2 div.sk-parallel-item:first-child::after {\n",
       "  align-self: flex-end;\n",
       "  width: 50%;\n",
       "}\n",
       "\n",
       "#sk-container-id-2 div.sk-parallel-item:last-child::after {\n",
       "  align-self: flex-start;\n",
       "  width: 50%;\n",
       "}\n",
       "\n",
       "#sk-container-id-2 div.sk-parallel-item:only-child::after {\n",
       "  width: 0;\n",
       "}\n",
       "\n",
       "/* Serial-specific style estimator block */\n",
       "\n",
       "#sk-container-id-2 div.sk-serial {\n",
       "  display: flex;\n",
       "  flex-direction: column;\n",
       "  align-items: center;\n",
       "  background-color: var(--sklearn-color-background);\n",
       "  padding-right: 1em;\n",
       "  padding-left: 1em;\n",
       "}\n",
       "\n",
       "\n",
       "/* Toggleable style: style used for estimator/Pipeline/ColumnTransformer box that is\n",
       "clickable and can be expanded/collapsed.\n",
       "- Pipeline and ColumnTransformer use this feature and define the default style\n",
       "- Estimators will overwrite some part of the style using the `sk-estimator` class\n",
       "*/\n",
       "\n",
       "/* Pipeline and ColumnTransformer style (default) */\n",
       "\n",
       "#sk-container-id-2 div.sk-toggleable {\n",
       "  /* Default theme specific background. It is overwritten whether we have a\n",
       "  specific estimator or a Pipeline/ColumnTransformer */\n",
       "  background-color: var(--sklearn-color-background);\n",
       "}\n",
       "\n",
       "/* Toggleable label */\n",
       "#sk-container-id-2 label.sk-toggleable__label {\n",
       "  cursor: pointer;\n",
       "  display: flex;\n",
       "  width: 100%;\n",
       "  margin-bottom: 0;\n",
       "  padding: 0.5em;\n",
       "  box-sizing: border-box;\n",
       "  text-align: center;\n",
       "  align-items: start;\n",
       "  justify-content: space-between;\n",
       "  gap: 0.5em;\n",
       "}\n",
       "\n",
       "#sk-container-id-2 label.sk-toggleable__label .caption {\n",
       "  font-size: 0.6rem;\n",
       "  font-weight: lighter;\n",
       "  color: var(--sklearn-color-text-muted);\n",
       "}\n",
       "\n",
       "#sk-container-id-2 label.sk-toggleable__label-arrow:before {\n",
       "  /* Arrow on the left of the label */\n",
       "  content: \"▸\";\n",
       "  float: left;\n",
       "  margin-right: 0.25em;\n",
       "  color: var(--sklearn-color-icon);\n",
       "}\n",
       "\n",
       "#sk-container-id-2 label.sk-toggleable__label-arrow:hover:before {\n",
       "  color: var(--sklearn-color-text);\n",
       "}\n",
       "\n",
       "/* Toggleable content - dropdown */\n",
       "\n",
       "#sk-container-id-2 div.sk-toggleable__content {\n",
       "  max-height: 0;\n",
       "  max-width: 0;\n",
       "  overflow: hidden;\n",
       "  text-align: left;\n",
       "  /* unfitted */\n",
       "  background-color: var(--sklearn-color-unfitted-level-0);\n",
       "}\n",
       "\n",
       "#sk-container-id-2 div.sk-toggleable__content.fitted {\n",
       "  /* fitted */\n",
       "  background-color: var(--sklearn-color-fitted-level-0);\n",
       "}\n",
       "\n",
       "#sk-container-id-2 div.sk-toggleable__content pre {\n",
       "  margin: 0.2em;\n",
       "  border-radius: 0.25em;\n",
       "  color: var(--sklearn-color-text);\n",
       "  /* unfitted */\n",
       "  background-color: var(--sklearn-color-unfitted-level-0);\n",
       "}\n",
       "\n",
       "#sk-container-id-2 div.sk-toggleable__content.fitted pre {\n",
       "  /* unfitted */\n",
       "  background-color: var(--sklearn-color-fitted-level-0);\n",
       "}\n",
       "\n",
       "#sk-container-id-2 input.sk-toggleable__control:checked~div.sk-toggleable__content {\n",
       "  /* Expand drop-down */\n",
       "  max-height: 200px;\n",
       "  max-width: 100%;\n",
       "  overflow: auto;\n",
       "}\n",
       "\n",
       "#sk-container-id-2 input.sk-toggleable__control:checked~label.sk-toggleable__label-arrow:before {\n",
       "  content: \"▾\";\n",
       "}\n",
       "\n",
       "/* Pipeline/ColumnTransformer-specific style */\n",
       "\n",
       "#sk-container-id-2 div.sk-label input.sk-toggleable__control:checked~label.sk-toggleable__label {\n",
       "  color: var(--sklearn-color-text);\n",
       "  background-color: var(--sklearn-color-unfitted-level-2);\n",
       "}\n",
       "\n",
       "#sk-container-id-2 div.sk-label.fitted input.sk-toggleable__control:checked~label.sk-toggleable__label {\n",
       "  background-color: var(--sklearn-color-fitted-level-2);\n",
       "}\n",
       "\n",
       "/* Estimator-specific style */\n",
       "\n",
       "/* Colorize estimator box */\n",
       "#sk-container-id-2 div.sk-estimator input.sk-toggleable__control:checked~label.sk-toggleable__label {\n",
       "  /* unfitted */\n",
       "  background-color: var(--sklearn-color-unfitted-level-2);\n",
       "}\n",
       "\n",
       "#sk-container-id-2 div.sk-estimator.fitted input.sk-toggleable__control:checked~label.sk-toggleable__label {\n",
       "  /* fitted */\n",
       "  background-color: var(--sklearn-color-fitted-level-2);\n",
       "}\n",
       "\n",
       "#sk-container-id-2 div.sk-label label.sk-toggleable__label,\n",
       "#sk-container-id-2 div.sk-label label {\n",
       "  /* The background is the default theme color */\n",
       "  color: var(--sklearn-color-text-on-default-background);\n",
       "}\n",
       "\n",
       "/* On hover, darken the color of the background */\n",
       "#sk-container-id-2 div.sk-label:hover label.sk-toggleable__label {\n",
       "  color: var(--sklearn-color-text);\n",
       "  background-color: var(--sklearn-color-unfitted-level-2);\n",
       "}\n",
       "\n",
       "/* Label box, darken color on hover, fitted */\n",
       "#sk-container-id-2 div.sk-label.fitted:hover label.sk-toggleable__label.fitted {\n",
       "  color: var(--sklearn-color-text);\n",
       "  background-color: var(--sklearn-color-fitted-level-2);\n",
       "}\n",
       "\n",
       "/* Estimator label */\n",
       "\n",
       "#sk-container-id-2 div.sk-label label {\n",
       "  font-family: monospace;\n",
       "  font-weight: bold;\n",
       "  display: inline-block;\n",
       "  line-height: 1.2em;\n",
       "}\n",
       "\n",
       "#sk-container-id-2 div.sk-label-container {\n",
       "  text-align: center;\n",
       "}\n",
       "\n",
       "/* Estimator-specific */\n",
       "#sk-container-id-2 div.sk-estimator {\n",
       "  font-family: monospace;\n",
       "  border: 1px dotted var(--sklearn-color-border-box);\n",
       "  border-radius: 0.25em;\n",
       "  box-sizing: border-box;\n",
       "  margin-bottom: 0.5em;\n",
       "  /* unfitted */\n",
       "  background-color: var(--sklearn-color-unfitted-level-0);\n",
       "}\n",
       "\n",
       "#sk-container-id-2 div.sk-estimator.fitted {\n",
       "  /* fitted */\n",
       "  background-color: var(--sklearn-color-fitted-level-0);\n",
       "}\n",
       "\n",
       "/* on hover */\n",
       "#sk-container-id-2 div.sk-estimator:hover {\n",
       "  /* unfitted */\n",
       "  background-color: var(--sklearn-color-unfitted-level-2);\n",
       "}\n",
       "\n",
       "#sk-container-id-2 div.sk-estimator.fitted:hover {\n",
       "  /* fitted */\n",
       "  background-color: var(--sklearn-color-fitted-level-2);\n",
       "}\n",
       "\n",
       "/* Specification for estimator info (e.g. \"i\" and \"?\") */\n",
       "\n",
       "/* Common style for \"i\" and \"?\" */\n",
       "\n",
       ".sk-estimator-doc-link,\n",
       "a:link.sk-estimator-doc-link,\n",
       "a:visited.sk-estimator-doc-link {\n",
       "  float: right;\n",
       "  font-size: smaller;\n",
       "  line-height: 1em;\n",
       "  font-family: monospace;\n",
       "  background-color: var(--sklearn-color-background);\n",
       "  border-radius: 1em;\n",
       "  height: 1em;\n",
       "  width: 1em;\n",
       "  text-decoration: none !important;\n",
       "  margin-left: 0.5em;\n",
       "  text-align: center;\n",
       "  /* unfitted */\n",
       "  border: var(--sklearn-color-unfitted-level-1) 1pt solid;\n",
       "  color: var(--sklearn-color-unfitted-level-1);\n",
       "}\n",
       "\n",
       ".sk-estimator-doc-link.fitted,\n",
       "a:link.sk-estimator-doc-link.fitted,\n",
       "a:visited.sk-estimator-doc-link.fitted {\n",
       "  /* fitted */\n",
       "  border: var(--sklearn-color-fitted-level-1) 1pt solid;\n",
       "  color: var(--sklearn-color-fitted-level-1);\n",
       "}\n",
       "\n",
       "/* On hover */\n",
       "div.sk-estimator:hover .sk-estimator-doc-link:hover,\n",
       ".sk-estimator-doc-link:hover,\n",
       "div.sk-label-container:hover .sk-estimator-doc-link:hover,\n",
       ".sk-estimator-doc-link:hover {\n",
       "  /* unfitted */\n",
       "  background-color: var(--sklearn-color-unfitted-level-3);\n",
       "  color: var(--sklearn-color-background);\n",
       "  text-decoration: none;\n",
       "}\n",
       "\n",
       "div.sk-estimator.fitted:hover .sk-estimator-doc-link.fitted:hover,\n",
       ".sk-estimator-doc-link.fitted:hover,\n",
       "div.sk-label-container:hover .sk-estimator-doc-link.fitted:hover,\n",
       ".sk-estimator-doc-link.fitted:hover {\n",
       "  /* fitted */\n",
       "  background-color: var(--sklearn-color-fitted-level-3);\n",
       "  color: var(--sklearn-color-background);\n",
       "  text-decoration: none;\n",
       "}\n",
       "\n",
       "/* Span, style for the box shown on hovering the info icon */\n",
       ".sk-estimator-doc-link span {\n",
       "  display: none;\n",
       "  z-index: 9999;\n",
       "  position: relative;\n",
       "  font-weight: normal;\n",
       "  right: .2ex;\n",
       "  padding: .5ex;\n",
       "  margin: .5ex;\n",
       "  width: min-content;\n",
       "  min-width: 20ex;\n",
       "  max-width: 50ex;\n",
       "  color: var(--sklearn-color-text);\n",
       "  box-shadow: 2pt 2pt 4pt #999;\n",
       "  /* unfitted */\n",
       "  background: var(--sklearn-color-unfitted-level-0);\n",
       "  border: .5pt solid var(--sklearn-color-unfitted-level-3);\n",
       "}\n",
       "\n",
       ".sk-estimator-doc-link.fitted span {\n",
       "  /* fitted */\n",
       "  background: var(--sklearn-color-fitted-level-0);\n",
       "  border: var(--sklearn-color-fitted-level-3);\n",
       "}\n",
       "\n",
       ".sk-estimator-doc-link:hover span {\n",
       "  display: block;\n",
       "}\n",
       "\n",
       "/* \"?\"-specific style due to the `<a>` HTML tag */\n",
       "\n",
       "#sk-container-id-2 a.estimator_doc_link {\n",
       "  float: right;\n",
       "  font-size: 1rem;\n",
       "  line-height: 1em;\n",
       "  font-family: monospace;\n",
       "  background-color: var(--sklearn-color-background);\n",
       "  border-radius: 1rem;\n",
       "  height: 1rem;\n",
       "  width: 1rem;\n",
       "  text-decoration: none;\n",
       "  /* unfitted */\n",
       "  color: var(--sklearn-color-unfitted-level-1);\n",
       "  border: var(--sklearn-color-unfitted-level-1) 1pt solid;\n",
       "}\n",
       "\n",
       "#sk-container-id-2 a.estimator_doc_link.fitted {\n",
       "  /* fitted */\n",
       "  border: var(--sklearn-color-fitted-level-1) 1pt solid;\n",
       "  color: var(--sklearn-color-fitted-level-1);\n",
       "}\n",
       "\n",
       "/* On hover */\n",
       "#sk-container-id-2 a.estimator_doc_link:hover {\n",
       "  /* unfitted */\n",
       "  background-color: var(--sklearn-color-unfitted-level-3);\n",
       "  color: var(--sklearn-color-background);\n",
       "  text-decoration: none;\n",
       "}\n",
       "\n",
       "#sk-container-id-2 a.estimator_doc_link.fitted:hover {\n",
       "  /* fitted */\n",
       "  background-color: var(--sklearn-color-fitted-level-3);\n",
       "}\n",
       "</style><div id=\"sk-container-id-2\" class=\"sk-top-container\"><div class=\"sk-text-repr-fallback\"><pre>RandomForestClassifier(random_state=42)</pre><b>In a Jupyter environment, please rerun this cell to show the HTML representation or trust the notebook. <br />On GitHub, the HTML representation is unable to render, please try loading this page with nbviewer.org.</b></div><div class=\"sk-container\" hidden><div class=\"sk-item\"><div class=\"sk-estimator fitted sk-toggleable\"><input class=\"sk-toggleable__control sk-hidden--visually\" id=\"sk-estimator-id-2\" type=\"checkbox\" checked><label for=\"sk-estimator-id-2\" class=\"sk-toggleable__label fitted sk-toggleable__label-arrow\"><div><div>RandomForestClassifier</div></div><div><a class=\"sk-estimator-doc-link fitted\" rel=\"noreferrer\" target=\"_blank\" href=\"https://scikit-learn.org/1.6/modules/generated/sklearn.ensemble.RandomForestClassifier.html\">?<span>Documentation for RandomForestClassifier</span></a><span class=\"sk-estimator-doc-link fitted\">i<span>Fitted</span></span></div></label><div class=\"sk-toggleable__content fitted\"><pre>RandomForestClassifier(random_state=42)</pre></div> </div></div></div></div>"
      ],
      "text/plain": [
       "RandomForestClassifier(random_state=42)"
      ]
     },
     "execution_count": 40,
     "metadata": {},
     "output_type": "execute_result"
    }
   ],
   "source": [
    "# Initialize the model\n",
    "rfc = RandomForestClassifier(random_state=42)\n",
    "                            \n",
    "# Train the model on the SMOTE-resampled data\n",
    "\n",
    "rfc.fit(X_train_smote,y_train_smote)"
   ]
  },
  {
   "cell_type": "markdown",
   "id": "9a629996-8cf7-48a9-9daf-998b9f104f39",
   "metadata": {},
   "source": [
    "# 6. Model Evaluation\n",
    "Model Evaluation is the process of checking how well your machine learning model performs on unseen data (the test set).\n",
    "In other words, you test how well your model generalizes beyond the data it was trained on.\n",
    "### Why Do We Evaluate a Model?\n",
    "Because just training a model isn’t enough — we need to make sure:\n",
    "\n",
    "It isn’t overfitting (too specific to training data)\n",
    "\n",
    "It performs well on new, real-world data\n",
    "\n",
    "We choose the best algorithm and tuned parameters before deploying\n",
    "### When Do We Evaluate the Model?\n",
    "After training your model on the training data, you:\n",
    "\n",
    "Use it to predict on the test data\n",
    "\n",
    "Compare the predictions with the actual test labels\n",
    "\n",
    "Use evaluation metrics to measure performance\n",
    "\n",
    "\n",
    "\n"
   ]
  },
  {
   "cell_type": "code",
   "execution_count": 37,
   "id": "e9ed1fdc-ec8f-494d-9768-9316d60509b7",
   "metadata": {},
   "outputs": [
    {
     "data": {
      "text/plain": [
       "Churn\n",
       "0    1036\n",
       "1     373\n",
       "Name: count, dtype: int64"
      ]
     },
     "execution_count": 37,
     "metadata": {},
     "output_type": "execute_result"
    }
   ],
   "source": [
    "# This shows the distribution of actual labels in your test set:\n",
    "\n",
    "y_test.value_counts()\n",
    "# 0    1036  # Customers who did not churn (majority class)\n",
    "# 1     373  # Customers who churned (minority class)\n",
    "# This confirms the test set is also imbalanced, just like the full dataset."
   ]
  },
  {
   "cell_type": "code",
   "execution_count": 55,
   "id": "5683e5e2-2c44-4857-89e8-65cea99cb4df",
   "metadata": {},
   "outputs": [
    {
     "name": "stdout",
     "output_type": "stream",
     "text": [
      "Accuracy Score:\n",
      " 0.7757274662881476\n",
      "Confusion Matrix:\n",
      " [[877 159]\n",
      " [157 216]]\n",
      "Classification Report:\n",
      "               precision    recall  f1-score   support\n",
      "\n",
      "           0       0.85      0.85      0.85      1036\n",
      "           1       0.58      0.58      0.58       373\n",
      "\n",
      "    accuracy                           0.78      1409\n",
      "   macro avg       0.71      0.71      0.71      1409\n",
      "weighted avg       0.78      0.78      0.78      1409\n",
      "\n"
     ]
    }
   ],
   "source": [
    "#evaluate on test data\n",
    "\n",
    " # Making Predictions\n",
    "y_test_pred = rfc.predict(X_test)\n",
    "# You used the final trained model to predict on X_test.\n",
    "\n",
    "# This generates predictions (y_test_pred) which are then compared with actual values (y_test).\n",
    "\n",
    "\n",
    "\n",
    "print(\"Accuracy Score:\\n\", accuracy_score(y_test,y_test_pred))\n",
    "# Be careful: With imbalanced datasets, high accuracy can be misleading. For example, predicting all 0 would give ~73% accuracy here (since 1036 out of 1409 are 0).\n",
    "print(\"Confusion Matrix:\\n\", confusion_matrix(y_test,y_test_pred))\n",
    "print(\"Classification Report:\\n\", classification_report(y_test,y_test_pred))"
   ]
  },
  {
   "cell_type": "markdown",
   "id": "7274e9bc-437c-4319-b2a2-81bb0c7fa64b",
   "metadata": {},
   "source": [
    "Metric:\tMeaning\n",
    "\n",
    "Precision:\tOut of predicted 1s, how many were actually 1 (churn)?\n",
    "\n",
    "Recall:\tOut of actual 1s, how many were correctly predicted as 1?\n",
    "\n",
    "F1-score\t:Harmonic mean of Precision and Recall (balance between the two)\n",
    "\n",
    "Support\t:Number of actual instances for each class (0 and 1)\n"
   ]
  },
  {
   "cell_type": "code",
   "execution_count": 56,
   "id": "aad138bb-1a46-455d-ad56-71b56765fbfc",
   "metadata": {},
   "outputs": [],
   "source": [
    "#save the trained model as a pickle file\n",
    "\n",
    "model_data={\"model\":rfc,\"feature_names\":X.columns.tolist}\n",
    "\n",
    "with open (\"customer_chunr_model.pkl\",\"wb\") as f:\n",
    "    pickle.dump(model_data, f)"
   ]
  },
  {
   "cell_type": "markdown",
   "id": "33c80130-fae1-4d10-8d42-c0ec0a05579b",
   "metadata": {},
   "source": [
    "Explanation:\n",
    "\n",
    "with open(\"customer_churn_model.pkl\", \"wb\") as f:\tOpens a new file named customer_churn_model.pkl in write-binary mode. This is where the model will be saved.\n",
    "\n",
    "\n",
    "pickle.dump(rfc, f):\tDumps (saves) the trained Random Forest model (rfc) into the file f using the pickle module."
   ]
  },
  {
   "cell_type": "markdown",
   "id": "7887bb4a-d27f-4a83-b0d4-ad639e923525",
   "metadata": {},
   "source": [
    "# 7. Load and saved model and build a predictive system "
   ]
  },
  {
   "cell_type": "code",
   "execution_count": 59,
   "id": "9f96fed3-15b2-4d6b-96c8-a58bb680b10b",
   "metadata": {},
   "outputs": [
    {
     "name": "stdout",
     "output_type": "stream",
     "text": [
      "RandomForestClassifier(random_state=42)\n",
      "<bound method IndexOpsMixin.tolist of Index(['gender', 'SeniorCitizen', 'Partner', 'Dependents', 'tenure',\n",
      "       'PhoneService', 'MultipleLines', 'InternetService', 'OnlineSecurity',\n",
      "       'OnlineBackup', 'DeviceProtection', 'TechSupport', 'StreamingTV',\n",
      "       'StreamingMovies', 'Contract', 'PaperlessBilling', 'PaymentMethod',\n",
      "       'MonthlyCharges', 'TotalCharges'],\n",
      "      dtype='object')>\n"
     ]
    }
   ],
   "source": [
    "#load the saved model and the encoders\n",
    "\n",
    "with open (\"customer_chunr_model.pkl\",\"rb\") as f:\n",
    "    model_data=pickle.load(f)\n",
    "\n",
    "loaded_model=model_data[\"model\"]\n",
    "feature_names=model_data[\"feature_names\"]\n",
    "print(loaded_model)\n",
    "print(feature_names)"
   ]
  },
  {
   "cell_type": "code",
   "execution_count": 72,
   "id": "3ec93e4c-d210-40e6-9ef4-5a6b937f27e3",
   "metadata": {},
   "outputs": [],
   "source": [
    "import pandas as pd\n",
    "#  This creates a one-row DataFrame (input_data_df) from the new customer's details.\n",
    "\n",
    "# The dictionary keys are column names; values are customer inputs.\n",
    "\n",
    "\n",
    "input_data = {'gender': 'Female', 'SeniorCitizen': '0', 'Partner': 'Yes', 'Dependents': 'No', 'tenure': '1', 'PhoneService': 'No', 'MultipleLines': 'No phone service', 'InternetService': 'DSL', 'OnlineSecurity': 'No', 'OnlineBackup': 'Yes', 'DeviceProtection': 'No', 'TechSupport': 'No', 'StreamingTV': 'No', 'StreamingMovies': 'No', 'Contract': 'Month-to-month', 'PaperlessBilling': 'Yes', 'PaymentMethod': 'Electronic check', 'MonthlyCharges': '29.85', 'TotalCharges': '29.85'}"
   ]
  },
  {
   "cell_type": "markdown",
   "id": "c6d16f1e-a27a-4418-b198-969e511db91e",
   "metadata": {},
   "source": [
    "### eature Encoding for Inference\n",
    "In simple terms:\n",
    "\n",
    "You're applying the same preprocessing steps (label encoding, etc.) to new/unseen data as you did during training, to prepare it for making predictions.\n",
    "\n",
    "#### Specifically, this step is called:\n",
    "Label Encoding for Inference\n",
    "\n",
    "Transforming New Data with Trained Encoders\n",
    "\n",
    "Inference-Time Feature Transformation\n",
    "\n",
    "Applying Consistent Encoding\n",
    "\n",
    "#### Why It Matters:\n",
    "When training a machine learning model, you encode categorical features (like \"Yes\", \"No\", \"Month-to-month\") into numerical values.\n",
    "\n",
    "At inference time (i.e., when using the model to predict), you must apply exactly the same encodings.\n",
    "\n",
    "Otherwise, the model will get confused and return errors or incorrect results.\n",
    "\n"
   ]
  },
  {
   "cell_type": "code",
   "execution_count": 76,
   "id": "32261fc1-c47b-49af-8a01-a6629459c91d",
   "metadata": {},
   "outputs": [
    {
     "name": "stdout",
     "output_type": "stream",
     "text": [
      "   gender SeniorCitizen Partner Dependents tenure PhoneService  \\\n",
      "0  Female             0     Yes         No      1           No   \n",
      "\n",
      "      MultipleLines InternetService OnlineSecurity OnlineBackup  \\\n",
      "0  No phone service             DSL             No          Yes   \n",
      "\n",
      "  DeviceProtection TechSupport StreamingTV StreamingMovies        Contract  \\\n",
      "0               No          No          No              No  Month-to-month   \n",
      "\n",
      "  PaperlessBilling     PaymentMethod MonthlyCharges TotalCharges  \n",
      "0              Yes  Electronic check          29.85        29.85  \n"
     ]
    }
   ],
   "source": [
    "\n",
    "input_data_df=pd.DataFrame([input_data])\n",
    "with open(\"encoders.pkl\",\"rb\") as f:\n",
    "    encoders=pickle.load(f)\n",
    "\n",
    "\n",
    "print(input_data_df.head())\n",
    "#encode categorical features using saved encoders\n",
    "for column,encoder in encoders.items():\n",
    "    input_data_df[column]=encoder.transform(input_data_df[column])\n",
    "     # This loop encodes each categorical column in your new input using the same encoder used during training.\n",
    "# Applies the correct label encoder for that column.\n",
    "\n",
    "# Replaces the string values in input_data_df with their numeric equivalents.\n",
    "\n",
    "\n",
    "# It ensures consistency between training data and new input"
   ]
  },
  {
   "cell_type": "code",
   "execution_count": 78,
   "id": "f2fa4ee6-1f6d-4e37-8316-a6ff83c7aa8b",
   "metadata": {},
   "outputs": [
    {
     "data": {
      "text/html": [
       "<div>\n",
       "<style scoped>\n",
       "    .dataframe tbody tr th:only-of-type {\n",
       "        vertical-align: middle;\n",
       "    }\n",
       "\n",
       "    .dataframe tbody tr th {\n",
       "        vertical-align: top;\n",
       "    }\n",
       "\n",
       "    .dataframe thead th {\n",
       "        text-align: right;\n",
       "    }\n",
       "</style>\n",
       "<table border=\"1\" class=\"dataframe\">\n",
       "  <thead>\n",
       "    <tr style=\"text-align: right;\">\n",
       "      <th></th>\n",
       "      <th>gender</th>\n",
       "      <th>SeniorCitizen</th>\n",
       "      <th>Partner</th>\n",
       "      <th>Dependents</th>\n",
       "      <th>tenure</th>\n",
       "      <th>PhoneService</th>\n",
       "      <th>MultipleLines</th>\n",
       "      <th>InternetService</th>\n",
       "      <th>OnlineSecurity</th>\n",
       "      <th>OnlineBackup</th>\n",
       "      <th>DeviceProtection</th>\n",
       "      <th>TechSupport</th>\n",
       "      <th>StreamingTV</th>\n",
       "      <th>StreamingMovies</th>\n",
       "      <th>Contract</th>\n",
       "      <th>PaperlessBilling</th>\n",
       "      <th>PaymentMethod</th>\n",
       "      <th>MonthlyCharges</th>\n",
       "      <th>TotalCharges</th>\n",
       "    </tr>\n",
       "  </thead>\n",
       "  <tbody>\n",
       "    <tr>\n",
       "      <th>0</th>\n",
       "      <td>0</td>\n",
       "      <td>0</td>\n",
       "      <td>1</td>\n",
       "      <td>0</td>\n",
       "      <td>1</td>\n",
       "      <td>0</td>\n",
       "      <td>1</td>\n",
       "      <td>0</td>\n",
       "      <td>0</td>\n",
       "      <td>2</td>\n",
       "      <td>0</td>\n",
       "      <td>0</td>\n",
       "      <td>0</td>\n",
       "      <td>0</td>\n",
       "      <td>0</td>\n",
       "      <td>1</td>\n",
       "      <td>2</td>\n",
       "      <td>29.85</td>\n",
       "      <td>2505</td>\n",
       "    </tr>\n",
       "  </tbody>\n",
       "</table>\n",
       "</div>"
      ],
      "text/plain": [
       "   gender SeniorCitizen  Partner  Dependents tenure  PhoneService  \\\n",
       "0       0             0        1           0      1             0   \n",
       "\n",
       "   MultipleLines  InternetService  OnlineSecurity  OnlineBackup  \\\n",
       "0              1                0               0             2   \n",
       "\n",
       "   DeviceProtection  TechSupport  StreamingTV  StreamingMovies  Contract  \\\n",
       "0                 0            0            0                0         0   \n",
       "\n",
       "   PaperlessBilling  PaymentMethod MonthlyCharges  TotalCharges  \n",
       "0                 1              2          29.85          2505  "
      ]
     },
     "execution_count": 78,
     "metadata": {},
     "output_type": "execute_result"
    }
   ],
   "source": [
    "input_data_df.head()"
   ]
  },
  {
   "cell_type": "code",
   "execution_count": 88,
   "id": "6e296145-57e9-462d-87d2-57ac6927ecfb",
   "metadata": {},
   "outputs": [
    {
     "name": "stdout",
     "output_type": "stream",
     "text": [
      "[0]\n",
      "Prediction:No Churn\n",
      "Prediction Probability:[[0.82 0.18]]\n"
     ]
    }
   ],
   "source": [
    "#make a prediction\n",
    "prediction = loaded_model.predict(input_data_df)\n",
    "pred_prob = loaded_model.predict_proba(input_data_df)\n",
    "print(prediction)\n",
    "\n",
    "\n",
    "#results\n",
    "print(f\"Prediction:{'Churn' if prediction[0]==1 else 'No Churn'}\")\n",
    "print(f\"Prediction Probability:{pred_prob}\")"
   ]
  },
  {
   "cell_type": "markdown",
   "id": "914cb8b4-0de5-4b65-9e3c-c1a5cd850fa6",
   "metadata": {},
   "source": [
    "## Why It’s Important:\n",
    "Your model can only predict on numerical data — it doesn't understand strings like \"Yes\", \"Month-to-month\", etc.\n",
    "\n",
    "This step ensures your new input matches the format your model expects.\n"
   ]
  },
  {
   "cell_type": "markdown",
   "id": "92669f9e-abb5-45d5-a0ef-22703fe294c2",
   "metadata": {},
   "source": [
    "### This entire flow is called:\n",
    "\n",
    "*Inference*-Time Feature Encoding and Model Prediction\n",
    "— making real-world predictions on new data using your trained and saved ML model"
   ]
  },
  {
   "cell_type": "code",
   "execution_count": null,
   "id": "5fcc8c11-b7fe-410b-b45b-6adf914c2960",
   "metadata": {},
   "outputs": [],
   "source": []
  }
 ],
 "metadata": {
  "kernelspec": {
   "display_name": "Python 3 (ipykernel)",
   "language": "python",
   "name": "python3"
  },
  "language_info": {
   "codemirror_mode": {
    "name": "ipython",
    "version": 3
   },
   "file_extension": ".py",
   "mimetype": "text/x-python",
   "name": "python",
   "nbconvert_exporter": "python",
   "pygments_lexer": "ipython3",
   "version": "3.12.5"
  }
 },
 "nbformat": 4,
 "nbformat_minor": 5
}
